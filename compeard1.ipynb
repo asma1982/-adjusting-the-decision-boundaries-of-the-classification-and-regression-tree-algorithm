{
 "cells": [
  {
   "cell_type": "markdown",
   "metadata": {},
   "source": [
    "##تعريف المكتبات "
   ]
  },
  {
   "cell_type": "code",
   "execution_count": 1,
   "metadata": {},
   "outputs": [],
   "source": [
    "import numpy as np  # linear algebra\n",
    "import pandas as pd  # read and wrangle dataframes\n",
    "import matplotlib.pyplot as plt # visualization\n",
    "import seaborn as sns # statistical visualizations and aesthetics\n",
    "\n",
    "\n",
    "from sklearn.base import TransformerMixin # To create new classes for transformations\n",
    "from sklearn.preprocessing import (FunctionTransformer, StandardScaler) # preprocessing \n",
    "\n",
    "from sklearn.decomposition import PCA # dimensionality reduction\n",
    "from sklearn.discriminant_analysis import LinearDiscriminantAnalysis as LDA\n",
    "\n",
    "from scipy.stats import boxcox # data transform\n",
    "from sklearn.model_selection import (train_test_split, KFold , StratifiedKFold, \n",
    "                                     cross_val_score, GridSearchCV, \n",
    "                                     learning_curve, validation_curve) # model selection modules\n",
    "\n",
    "from sklearn.pipeline import Pipeline # streaming pipelines\n",
    "from sklearn.base import BaseEstimator, TransformerMixin # To create a box-cox transformation class\n",
    "from collections import Counter\n",
    "import warnings\n",
    "\n",
    "# load models\n",
    "from sklearn.tree import DecisionTreeClassifier\n",
    "from sklearn.linear_model import LogisticRegression\n",
    "from sklearn.svm import SVC\n",
    "from sklearn.ensemble import (RandomForestClassifier, AdaBoostClassifier, ExtraTreesClassifier, GradientBoostingClassifier)\n",
    "from sklearn.neighbors import KNeighborsClassifier\n",
    "from sklearn.naive_bayes import GaussianNB\n",
    "from time import time\n",
    "\n",
    "%matplotlib inline \n",
    "warnings.filterwarnings('ignore')\n",
    "#sns.set_style('whitegrid')\n",
    "sns.set_style(\"darkgrid\")\n"
   ]
  },
  {
   "cell_type": "code",
   "execution_count": 2,
   "metadata": {},
   "outputs": [],
   "source": [
    "BC = pd.read_csv('bc_97.csv')"
   ]
  },
  {
   "cell_type": "code",
   "execution_count": 3,
   "metadata": {},
   "outputs": [
    {
     "data": {
      "text/html": [
       "<div>\n",
       "<style scoped>\n",
       "    .dataframe tbody tr th:only-of-type {\n",
       "        vertical-align: middle;\n",
       "    }\n",
       "\n",
       "    .dataframe tbody tr th {\n",
       "        vertical-align: top;\n",
       "    }\n",
       "\n",
       "    .dataframe thead th {\n",
       "        text-align: right;\n",
       "    }\n",
       "</style>\n",
       "<table border=\"1\" class=\"dataframe\">\n",
       "  <thead>\n",
       "    <tr style=\"text-align: right;\">\n",
       "      <th></th>\n",
       "      <th>Sex</th>\n",
       "      <th>Age</th>\n",
       "      <th>Adress</th>\n",
       "      <th>FBS</th>\n",
       "      <th>Urea</th>\n",
       "      <th>Creatinin</th>\n",
       "      <th>ALB</th>\n",
       "      <th>TCa</th>\n",
       "      <th>GPT</th>\n",
       "      <th>GOT</th>\n",
       "      <th>...</th>\n",
       "      <th>WBC</th>\n",
       "      <th>RBC</th>\n",
       "      <th>HGB</th>\n",
       "      <th>PLT</th>\n",
       "      <th>ESR</th>\n",
       "      <th>LDH</th>\n",
       "      <th>Na</th>\n",
       "      <th>K</th>\n",
       "      <th>CL</th>\n",
       "      <th>CLASS</th>\n",
       "    </tr>\n",
       "  </thead>\n",
       "  <tbody>\n",
       "    <tr>\n",
       "      <td>0</td>\n",
       "      <td>1</td>\n",
       "      <td>60</td>\n",
       "      <td>Tragan</td>\n",
       "      <td>100.0</td>\n",
       "      <td>23.0</td>\n",
       "      <td>0.8</td>\n",
       "      <td>3.4</td>\n",
       "      <td>10.0</td>\n",
       "      <td>20.0</td>\n",
       "      <td>10.0</td>\n",
       "      <td>...</td>\n",
       "      <td>3.4</td>\n",
       "      <td>4.60</td>\n",
       "      <td>13.4</td>\n",
       "      <td>196.0</td>\n",
       "      <td>14.0</td>\n",
       "      <td>150.0</td>\n",
       "      <td>145.0</td>\n",
       "      <td>4.50</td>\n",
       "      <td>107.1</td>\n",
       "      <td>0</td>\n",
       "    </tr>\n",
       "    <tr>\n",
       "      <td>1</td>\n",
       "      <td>1</td>\n",
       "      <td>53</td>\n",
       "      <td>Sabha</td>\n",
       "      <td>190.0</td>\n",
       "      <td>27.0</td>\n",
       "      <td>0.6</td>\n",
       "      <td>NaN</td>\n",
       "      <td>9.3</td>\n",
       "      <td>11.0</td>\n",
       "      <td>17.0</td>\n",
       "      <td>...</td>\n",
       "      <td>4.4</td>\n",
       "      <td>5.00</td>\n",
       "      <td>12.5</td>\n",
       "      <td>155.0</td>\n",
       "      <td>NaN</td>\n",
       "      <td>260.0</td>\n",
       "      <td>139.2</td>\n",
       "      <td>4.17</td>\n",
       "      <td>106.4</td>\n",
       "      <td>0</td>\n",
       "    </tr>\n",
       "    <tr>\n",
       "      <td>2</td>\n",
       "      <td>1</td>\n",
       "      <td>50</td>\n",
       "      <td>Sabha</td>\n",
       "      <td>150.0</td>\n",
       "      <td>15.0</td>\n",
       "      <td>1.1</td>\n",
       "      <td>3.5</td>\n",
       "      <td>8.5</td>\n",
       "      <td>13.0</td>\n",
       "      <td>10.0</td>\n",
       "      <td>...</td>\n",
       "      <td>5.1</td>\n",
       "      <td>4.46</td>\n",
       "      <td>13.8</td>\n",
       "      <td>312.0</td>\n",
       "      <td>NaN</td>\n",
       "      <td>169.0</td>\n",
       "      <td>140.0</td>\n",
       "      <td>4.00</td>\n",
       "      <td>100.1</td>\n",
       "      <td>0</td>\n",
       "    </tr>\n",
       "    <tr>\n",
       "      <td>3</td>\n",
       "      <td>1</td>\n",
       "      <td>36</td>\n",
       "      <td>Obaree-center</td>\n",
       "      <td>80.0</td>\n",
       "      <td>20.0</td>\n",
       "      <td>1.0</td>\n",
       "      <td>4.2</td>\n",
       "      <td>8.0</td>\n",
       "      <td>7.0</td>\n",
       "      <td>13.0</td>\n",
       "      <td>...</td>\n",
       "      <td>3.1</td>\n",
       "      <td>4.33</td>\n",
       "      <td>10.7</td>\n",
       "      <td>212.0</td>\n",
       "      <td>10.0</td>\n",
       "      <td>138.0</td>\n",
       "      <td>136.4</td>\n",
       "      <td>4.06</td>\n",
       "      <td>107.1</td>\n",
       "      <td>0</td>\n",
       "    </tr>\n",
       "    <tr>\n",
       "      <td>4</td>\n",
       "      <td>1</td>\n",
       "      <td>30</td>\n",
       "      <td>Obaree-center</td>\n",
       "      <td>80.0</td>\n",
       "      <td>40.0</td>\n",
       "      <td>0.8</td>\n",
       "      <td>3.0</td>\n",
       "      <td>NaN</td>\n",
       "      <td>9.0</td>\n",
       "      <td>15.0</td>\n",
       "      <td>...</td>\n",
       "      <td>4.2</td>\n",
       "      <td>4.13</td>\n",
       "      <td>12.3</td>\n",
       "      <td>243.0</td>\n",
       "      <td>5.0</td>\n",
       "      <td>154.0</td>\n",
       "      <td>NaN</td>\n",
       "      <td>4.00</td>\n",
       "      <td>106.2</td>\n",
       "      <td>0</td>\n",
       "    </tr>\n",
       "  </tbody>\n",
       "</table>\n",
       "<p>5 rows × 23 columns</p>\n",
       "</div>"
      ],
      "text/plain": [
       "   Sex  Age         Adress    FBS  Urea  Creatinin  ALB   TCa   GPT   GOT  \\\n",
       "0    1   60         Tragan  100.0  23.0        0.8  3.4  10.0  20.0  10.0   \n",
       "1    1   53          Sabha  190.0  27.0        0.6  NaN   9.3  11.0  17.0   \n",
       "2    1   50          Sabha  150.0  15.0        1.1  3.5   8.5  13.0  10.0   \n",
       "3    1   36  Obaree-center   80.0  20.0        1.0  4.2   8.0   7.0  13.0   \n",
       "4    1   30  Obaree-center   80.0  40.0        0.8  3.0   NaN   9.0  15.0   \n",
       "\n",
       "   ...  WBC   RBC   HGB    PLT   ESR    LDH     Na     K     CL  CLASS  \n",
       "0  ...  3.4  4.60  13.4  196.0  14.0  150.0  145.0  4.50  107.1      0  \n",
       "1  ...  4.4  5.00  12.5  155.0   NaN  260.0  139.2  4.17  106.4      0  \n",
       "2  ...  5.1  4.46  13.8  312.0   NaN  169.0  140.0  4.00  100.1      0  \n",
       "3  ...  3.1  4.33  10.7  212.0  10.0  138.0  136.4  4.06  107.1      0  \n",
       "4  ...  4.2  4.13  12.3  243.0   5.0  154.0    NaN  4.00  106.2      0  \n",
       "\n",
       "[5 rows x 23 columns]"
      ]
     },
     "execution_count": 3,
     "metadata": {},
     "output_type": "execute_result"
    }
   ],
   "source": [
    "BC.head()"
   ]
  },
  {
   "cell_type": "code",
   "execution_count": 4,
   "metadata": {},
   "outputs": [
    {
     "data": {
      "text/plain": [
       "(2435, 23)"
      ]
     },
     "execution_count": 4,
     "metadata": {},
     "output_type": "execute_result"
    }
   ],
   "source": [
    "BC.shape"
   ]
  },
  {
   "cell_type": "markdown",
   "metadata": {},
   "source": [
    "<a id = \"6\"></a><br>\n",
    "## Missing Values"
   ]
  },
  {
   "cell_type": "code",
   "execution_count": 5,
   "metadata": {},
   "outputs": [
    {
     "data": {
      "text/html": [
       "<div>\n",
       "<style scoped>\n",
       "    .dataframe tbody tr th:only-of-type {\n",
       "        vertical-align: middle;\n",
       "    }\n",
       "\n",
       "    .dataframe tbody tr th {\n",
       "        vertical-align: top;\n",
       "    }\n",
       "\n",
       "    .dataframe thead th {\n",
       "        text-align: right;\n",
       "    }\n",
       "</style>\n",
       "<table border=\"1\" class=\"dataframe\">\n",
       "  <thead>\n",
       "    <tr style=\"text-align: right;\">\n",
       "      <th></th>\n",
       "      <th>Sex</th>\n",
       "      <th>Age</th>\n",
       "      <th>Adress</th>\n",
       "      <th>FBS</th>\n",
       "      <th>Urea</th>\n",
       "      <th>Creatinin</th>\n",
       "      <th>ALB</th>\n",
       "      <th>TCa</th>\n",
       "      <th>GPT</th>\n",
       "      <th>GOT</th>\n",
       "      <th>...</th>\n",
       "      <th>WBC</th>\n",
       "      <th>RBC</th>\n",
       "      <th>HGB</th>\n",
       "      <th>PLT</th>\n",
       "      <th>ESR</th>\n",
       "      <th>LDH</th>\n",
       "      <th>Na</th>\n",
       "      <th>K</th>\n",
       "      <th>CL</th>\n",
       "      <th>CLASS</th>\n",
       "    </tr>\n",
       "  </thead>\n",
       "  <tbody>\n",
       "    <tr>\n",
       "      <td>0</td>\n",
       "      <td>1</td>\n",
       "      <td>60</td>\n",
       "      <td>Tragan</td>\n",
       "      <td>100.0</td>\n",
       "      <td>23.0</td>\n",
       "      <td>0.8</td>\n",
       "      <td>3.400000</td>\n",
       "      <td>10.000</td>\n",
       "      <td>20.0</td>\n",
       "      <td>10.0</td>\n",
       "      <td>...</td>\n",
       "      <td>3.4</td>\n",
       "      <td>4.60</td>\n",
       "      <td>13.4</td>\n",
       "      <td>196.0</td>\n",
       "      <td>14.000000</td>\n",
       "      <td>150.0</td>\n",
       "      <td>145.000000</td>\n",
       "      <td>4.50</td>\n",
       "      <td>107.1</td>\n",
       "      <td>0</td>\n",
       "    </tr>\n",
       "    <tr>\n",
       "      <td>1</td>\n",
       "      <td>1</td>\n",
       "      <td>53</td>\n",
       "      <td>Sabha</td>\n",
       "      <td>190.0</td>\n",
       "      <td>27.0</td>\n",
       "      <td>0.6</td>\n",
       "      <td>6.025476</td>\n",
       "      <td>9.300</td>\n",
       "      <td>11.0</td>\n",
       "      <td>17.0</td>\n",
       "      <td>...</td>\n",
       "      <td>4.4</td>\n",
       "      <td>5.00</td>\n",
       "      <td>12.5</td>\n",
       "      <td>155.0</td>\n",
       "      <td>24.520661</td>\n",
       "      <td>260.0</td>\n",
       "      <td>139.200000</td>\n",
       "      <td>4.17</td>\n",
       "      <td>106.4</td>\n",
       "      <td>0</td>\n",
       "    </tr>\n",
       "    <tr>\n",
       "      <td>2</td>\n",
       "      <td>1</td>\n",
       "      <td>50</td>\n",
       "      <td>Sabha</td>\n",
       "      <td>150.0</td>\n",
       "      <td>15.0</td>\n",
       "      <td>1.1</td>\n",
       "      <td>3.500000</td>\n",
       "      <td>8.500</td>\n",
       "      <td>13.0</td>\n",
       "      <td>10.0</td>\n",
       "      <td>...</td>\n",
       "      <td>5.1</td>\n",
       "      <td>4.46</td>\n",
       "      <td>13.8</td>\n",
       "      <td>312.0</td>\n",
       "      <td>24.520661</td>\n",
       "      <td>169.0</td>\n",
       "      <td>140.000000</td>\n",
       "      <td>4.00</td>\n",
       "      <td>100.1</td>\n",
       "      <td>0</td>\n",
       "    </tr>\n",
       "    <tr>\n",
       "      <td>3</td>\n",
       "      <td>1</td>\n",
       "      <td>36</td>\n",
       "      <td>Obaree-center</td>\n",
       "      <td>80.0</td>\n",
       "      <td>20.0</td>\n",
       "      <td>1.0</td>\n",
       "      <td>4.200000</td>\n",
       "      <td>8.000</td>\n",
       "      <td>7.0</td>\n",
       "      <td>13.0</td>\n",
       "      <td>...</td>\n",
       "      <td>3.1</td>\n",
       "      <td>4.33</td>\n",
       "      <td>10.7</td>\n",
       "      <td>212.0</td>\n",
       "      <td>10.000000</td>\n",
       "      <td>138.0</td>\n",
       "      <td>136.400000</td>\n",
       "      <td>4.06</td>\n",
       "      <td>107.1</td>\n",
       "      <td>0</td>\n",
       "    </tr>\n",
       "    <tr>\n",
       "      <td>4</td>\n",
       "      <td>1</td>\n",
       "      <td>30</td>\n",
       "      <td>Obaree-center</td>\n",
       "      <td>80.0</td>\n",
       "      <td>40.0</td>\n",
       "      <td>0.8</td>\n",
       "      <td>3.000000</td>\n",
       "      <td>9.946</td>\n",
       "      <td>9.0</td>\n",
       "      <td>15.0</td>\n",
       "      <td>...</td>\n",
       "      <td>4.2</td>\n",
       "      <td>4.13</td>\n",
       "      <td>12.3</td>\n",
       "      <td>243.0</td>\n",
       "      <td>5.000000</td>\n",
       "      <td>154.0</td>\n",
       "      <td>153.698856</td>\n",
       "      <td>4.00</td>\n",
       "      <td>106.2</td>\n",
       "      <td>0</td>\n",
       "    </tr>\n",
       "    <tr>\n",
       "      <td>...</td>\n",
       "      <td>...</td>\n",
       "      <td>...</td>\n",
       "      <td>...</td>\n",
       "      <td>...</td>\n",
       "      <td>...</td>\n",
       "      <td>...</td>\n",
       "      <td>...</td>\n",
       "      <td>...</td>\n",
       "      <td>...</td>\n",
       "      <td>...</td>\n",
       "      <td>...</td>\n",
       "      <td>...</td>\n",
       "      <td>...</td>\n",
       "      <td>...</td>\n",
       "      <td>...</td>\n",
       "      <td>...</td>\n",
       "      <td>...</td>\n",
       "      <td>...</td>\n",
       "      <td>...</td>\n",
       "      <td>...</td>\n",
       "      <td>...</td>\n",
       "    </tr>\n",
       "    <tr>\n",
       "      <td>2430</td>\n",
       "      <td>1</td>\n",
       "      <td>30</td>\n",
       "      <td>Algatroon</td>\n",
       "      <td>146.0</td>\n",
       "      <td>28.0</td>\n",
       "      <td>0.7</td>\n",
       "      <td>4.000000</td>\n",
       "      <td>9.500</td>\n",
       "      <td>63.0</td>\n",
       "      <td>23.0</td>\n",
       "      <td>...</td>\n",
       "      <td>3.9</td>\n",
       "      <td>5.23</td>\n",
       "      <td>11.3</td>\n",
       "      <td>288.0</td>\n",
       "      <td>15.000000</td>\n",
       "      <td>254.0</td>\n",
       "      <td>138.700000</td>\n",
       "      <td>4.35</td>\n",
       "      <td>103.6</td>\n",
       "      <td>1</td>\n",
       "    </tr>\n",
       "    <tr>\n",
       "      <td>2431</td>\n",
       "      <td>1</td>\n",
       "      <td>47</td>\n",
       "      <td>Sabha</td>\n",
       "      <td>90.0</td>\n",
       "      <td>32.0</td>\n",
       "      <td>0.8</td>\n",
       "      <td>4.700000</td>\n",
       "      <td>8.800</td>\n",
       "      <td>82.0</td>\n",
       "      <td>23.0</td>\n",
       "      <td>...</td>\n",
       "      <td>4.8</td>\n",
       "      <td>4.57</td>\n",
       "      <td>13.2</td>\n",
       "      <td>249.0</td>\n",
       "      <td>12.000000</td>\n",
       "      <td>254.0</td>\n",
       "      <td>142.300000</td>\n",
       "      <td>4.40</td>\n",
       "      <td>102.7</td>\n",
       "      <td>1</td>\n",
       "    </tr>\n",
       "    <tr>\n",
       "      <td>2432</td>\n",
       "      <td>1</td>\n",
       "      <td>43</td>\n",
       "      <td>Sabha</td>\n",
       "      <td>70.0</td>\n",
       "      <td>15.0</td>\n",
       "      <td>0.6</td>\n",
       "      <td>3.500000</td>\n",
       "      <td>8.100</td>\n",
       "      <td>22.0</td>\n",
       "      <td>15.0</td>\n",
       "      <td>...</td>\n",
       "      <td>4.4</td>\n",
       "      <td>4.32</td>\n",
       "      <td>11.1</td>\n",
       "      <td>249.0</td>\n",
       "      <td>8.000000</td>\n",
       "      <td>254.0</td>\n",
       "      <td>137.800000</td>\n",
       "      <td>4.25</td>\n",
       "      <td>110.2</td>\n",
       "      <td>1</td>\n",
       "    </tr>\n",
       "    <tr>\n",
       "      <td>2433</td>\n",
       "      <td>1</td>\n",
       "      <td>60</td>\n",
       "      <td>Sabha</td>\n",
       "      <td>98.0</td>\n",
       "      <td>29.0</td>\n",
       "      <td>0.9</td>\n",
       "      <td>4.800000</td>\n",
       "      <td>8.200</td>\n",
       "      <td>51.0</td>\n",
       "      <td>17.0</td>\n",
       "      <td>...</td>\n",
       "      <td>4.5</td>\n",
       "      <td>4.41</td>\n",
       "      <td>12.9</td>\n",
       "      <td>293.0</td>\n",
       "      <td>13.000000</td>\n",
       "      <td>254.0</td>\n",
       "      <td>147.500000</td>\n",
       "      <td>3.15</td>\n",
       "      <td>107.5</td>\n",
       "      <td>1</td>\n",
       "    </tr>\n",
       "    <tr>\n",
       "      <td>2434</td>\n",
       "      <td>1</td>\n",
       "      <td>68</td>\n",
       "      <td>Sabha</td>\n",
       "      <td>76.0</td>\n",
       "      <td>29.0</td>\n",
       "      <td>0.6</td>\n",
       "      <td>4.200000</td>\n",
       "      <td>8.500</td>\n",
       "      <td>83.0</td>\n",
       "      <td>20.0</td>\n",
       "      <td>...</td>\n",
       "      <td>3.4</td>\n",
       "      <td>4.42</td>\n",
       "      <td>11.0</td>\n",
       "      <td>199.0</td>\n",
       "      <td>15.000000</td>\n",
       "      <td>254.0</td>\n",
       "      <td>142.300000</td>\n",
       "      <td>3.23</td>\n",
       "      <td>107.5</td>\n",
       "      <td>1</td>\n",
       "    </tr>\n",
       "  </tbody>\n",
       "</table>\n",
       "<p>2435 rows × 23 columns</p>\n",
       "</div>"
      ],
      "text/plain": [
       "      Sex  Age         Adress    FBS  Urea  Creatinin       ALB     TCa   GPT  \\\n",
       "0       1   60         Tragan  100.0  23.0        0.8  3.400000  10.000  20.0   \n",
       "1       1   53          Sabha  190.0  27.0        0.6  6.025476   9.300  11.0   \n",
       "2       1   50          Sabha  150.0  15.0        1.1  3.500000   8.500  13.0   \n",
       "3       1   36  Obaree-center   80.0  20.0        1.0  4.200000   8.000   7.0   \n",
       "4       1   30  Obaree-center   80.0  40.0        0.8  3.000000   9.946   9.0   \n",
       "...   ...  ...            ...    ...   ...        ...       ...     ...   ...   \n",
       "2430    1   30      Algatroon  146.0  28.0        0.7  4.000000   9.500  63.0   \n",
       "2431    1   47          Sabha   90.0  32.0        0.8  4.700000   8.800  82.0   \n",
       "2432    1   43          Sabha   70.0  15.0        0.6  3.500000   8.100  22.0   \n",
       "2433    1   60          Sabha   98.0  29.0        0.9  4.800000   8.200  51.0   \n",
       "2434    1   68          Sabha   76.0  29.0        0.6  4.200000   8.500  83.0   \n",
       "\n",
       "       GOT  ...  WBC   RBC   HGB    PLT        ESR    LDH          Na     K  \\\n",
       "0     10.0  ...  3.4  4.60  13.4  196.0  14.000000  150.0  145.000000  4.50   \n",
       "1     17.0  ...  4.4  5.00  12.5  155.0  24.520661  260.0  139.200000  4.17   \n",
       "2     10.0  ...  5.1  4.46  13.8  312.0  24.520661  169.0  140.000000  4.00   \n",
       "3     13.0  ...  3.1  4.33  10.7  212.0  10.000000  138.0  136.400000  4.06   \n",
       "4     15.0  ...  4.2  4.13  12.3  243.0   5.000000  154.0  153.698856  4.00   \n",
       "...    ...  ...  ...   ...   ...    ...        ...    ...         ...   ...   \n",
       "2430  23.0  ...  3.9  5.23  11.3  288.0  15.000000  254.0  138.700000  4.35   \n",
       "2431  23.0  ...  4.8  4.57  13.2  249.0  12.000000  254.0  142.300000  4.40   \n",
       "2432  15.0  ...  4.4  4.32  11.1  249.0   8.000000  254.0  137.800000  4.25   \n",
       "2433  17.0  ...  4.5  4.41  12.9  293.0  13.000000  254.0  147.500000  3.15   \n",
       "2434  20.0  ...  3.4  4.42  11.0  199.0  15.000000  254.0  142.300000  3.23   \n",
       "\n",
       "         CL  CLASS  \n",
       "0     107.1      0  \n",
       "1     106.4      0  \n",
       "2     100.1      0  \n",
       "3     107.1      0  \n",
       "4     106.2      0  \n",
       "...     ...    ...  \n",
       "2430  103.6      1  \n",
       "2431  102.7      1  \n",
       "2432  110.2      1  \n",
       "2433  107.5      1  \n",
       "2434  107.5      1  \n",
       "\n",
       "[2435 rows x 23 columns]"
      ]
     },
     "execution_count": 5,
     "metadata": {},
     "output_type": "execute_result"
    }
   ],
   "source": [
    "#imputing nan values\n",
    "\n",
    "BC[\"FBS\"].fillna(BC[\"FBS\"].mean(), inplace=True)\n",
    "BC[\"Urea\"].fillna(BC[\"Urea\"].mean(), inplace=True)\n",
    "BC[\"Creatinin\"].fillna(BC[\"Creatinin\"].mean(), inplace=True)\n",
    "BC[\"ALB\"].fillna(BC[\"ALB\"].mean(), inplace=True)\n",
    "BC[\"TCa\"].fillna(BC[\"TCa\"].mean(), inplace=True)\n",
    "BC[\"GPT\"].fillna(BC[\"GPT\"].mean(), inplace=True)\n",
    "BC[\"GOT\"].fillna(BC[\"GOT\"].mean(), inplace=True)\n",
    "BC[\"ALP\"].fillna(BC[\"ALP\"].mean(), inplace=True)\n",
    "BC[\"WBC\"].fillna(BC[\"WBC\"].mean(), inplace=True)\n",
    "BC[\"HGB\"].fillna(BC[\"HGB\"].mean(), inplace=True)\n",
    "BC[\"RBC\"].fillna(BC[\"RBC\"].mean(), inplace=True)\n",
    "BC[\"PLT\"].fillna(BC[\"PLT\"].mean(), inplace=True)\n",
    "BC[\"ESR\"].fillna(BC[\"ESR\"].mean(), inplace=True)\n",
    "BC[\"LDH\"].fillna(BC[\"LDH\"].mean(), inplace=True)\n",
    "BC[\"Na\"].fillna(BC[\"Na\"].mean(), inplace=True)\n",
    "BC[\"K\"].fillna(BC[\"K\"].mean(), inplace=True)\n",
    "BC[\"CL\"].fillna(BC[\"CL\"].mean(), inplace=True)\n",
    "BC[\"CA15\"].fillna(BC[\"CA15\"].mean(), inplace=True)\n",
    "BC[\"CEA\"].fillna(BC[\"CEA\"].mean(), inplace=True)\n",
    "BC"
   ]
  },
  {
   "cell_type": "markdown",
   "metadata": {},
   "source": [
    "## outlires by Z-score\n"
   ]
  },
  {
   "cell_type": "code",
   "execution_count": 6,
   "metadata": {},
   "outputs": [],
   "source": [
    "BC[\"ZScore_FBS\"] = (BC.FBS - BC.FBS.mean())/(BC.FBS.std())\n",
    "BC[\"ZScore_Urea\"] = (BC.Urea - BC.Urea.mean())/(BC.Urea.std())\n",
    "BC[\"ZScore_creatinine\"] = (BC.Creatinin - BC.Creatinin.mean())/(BC.Creatinin.std())\n",
    "BC[\"ZScore_ALB\"] = (BC.ALB - BC.ALB.mean())/(BC.ALB.std())\n",
    "BC[\"ZScore_TCa\"] = (BC.TCa - BC.TCa.mean())/(BC.TCa.std())\n",
    "BC[\"ZScore_GPT\"] = (BC.GPT - BC.GPT.mean())/(BC.GPT.std())\n",
    "BC[\"ZScore_GOT\"] = (BC.GOT - BC.GOT.mean())/(BC.GOT.std())\n",
    "BC[\"ZScore_ALP\"] = (BC.ALP - BC.ALP.mean())/(BC.ALP.std())\n",
    "BC[\"ZScore_CA15\"] = (BC.CA15 - BC.CA15.mean())/(BC.CA15.std())\n",
    "BC[\"ZScore_CEA\"] = (BC.CEA - BC.CEA.mean())/(BC.CEA.std())\n",
    "BC[\"ZScore_WBC\"] = (BC.WBC - BC.WBC.mean())/(BC.WBC.std())\n",
    "BC[\"ZScore_RBC\"] = (BC.RBC - BC.RBC.mean())/(BC.RBC.std())\n",
    "BC[\"ZScore_HGB\"] = (BC.HGB - BC.HGB.mean())/(BC.HGB.std())\n",
    "BC[\"ZScore_PLT\"] = (BC.PLT - BC.PLT.mean())/(BC.PLT.std())\n",
    "BC[\"ZScore_ESR\"] = (BC.ESR - BC.ESR.mean())/(BC.ESR.std())\n",
    "BC[\"ZScore_LDH\"] = (BC.LDH - BC.LDH.mean())/(BC.LDH.std())\n",
    "BC[\"ZScore_Na\"] = (BC.Na - BC.Na.mean())/(BC.Na.std())\n",
    "BC[\"ZScore_CL\"] = (BC.CL - BC.CL.mean())/(BC.CL.std())\n",
    "BC[\"ZScore_K\"] = (BC.K - BC.K.mean())/(BC.K.std())\n",
    "\n"
   ]
  },
  {
   "cell_type": "code",
   "execution_count": 7,
   "metadata": {},
   "outputs": [],
   "source": [
    "BC_FBS_outlier_Z = BC[(BC.ZScore_FBS>3) | (BC.ZScore_FBS<-3)]\n",
    "BC_Urea_outlier_Z = BC[(BC.ZScore_Urea>3) | (BC.ZScore_Urea<-3)]\n",
    "BC_creatinine_outlier_Z = BC[(BC.ZScore_creatinine>3) | (BC.ZScore_creatinine<-3)]\n",
    "BC_ALB_outlier_Z = BC[(BC.ZScore_ALB>3) | (BC.ZScore_ALB<-3)]\n",
    "BC_TCa_outlier_Z = BC[(BC.ZScore_TCa>3) | (BC.ZScore_TCa<-3)]\n",
    "BC_GPT_outlier_Z = BC[(BC.ZScore_GPT>3) | (BC.ZScore_GPT<-3)]\n",
    "BC_GOT_outlier_Z = BC[(BC.ZScore_GOT>3) | (BC.ZScore_GOT<-3)]\n",
    "BC_ALP_outlier_Z = BC[(BC.ZScore_ALP>3) | (BC.ZScore_ALP<-3)]\n",
    "BC_CA15_outlier_Z = BC[(BC.ZScore_CA15>3) | (BC.ZScore_CA15<-3)]\n",
    "BC_CEA_outlier_Z = BC[(BC.ZScore_CEA>3) | (BC.ZScore_CEA<-3)]\n",
    "BC_WBC_outlier_Z = BC[(BC.ZScore_WBC>3) | (BC.ZScore_WBC<-3)]\n",
    "BC_RBC_outlier_Z = BC[(BC.ZScore_RBC>3) | (BC.ZScore_RBC<-3)]\n",
    "BC_HGB_outlier_Z = BC[(BC.ZScore_HGB>3) | (BC.ZScore_HGB<-3)]\n",
    "BC_PLT_outlier_Z = BC[(BC.ZScore_PLT>3) | (BC.ZScore_PLT<-3)]\n",
    "BC_ESR_outlier_Z = BC[(BC.ZScore_ESR>3) | (BC.ZScore_ESR<-3)]\n",
    "BC_LDH_outlier_Z = BC[(BC.ZScore_LDH>3) | (BC.ZScore_LDH<-3)]\n",
    "BC_Na_outlier_Z = BC[(BC.ZScore_Na>3) | (BC.ZScore_Na<-3)]\n",
    "BC_K_outlier_Z = BC[(BC.ZScore_CL>3) | (BC.ZScore_CL<-3)]\n",
    "BC_CL_outlier_Z = BC[(BC.ZScore_K>3) | (BC.ZScore_K<-3)]\n"
   ]
  },
  {
   "cell_type": "code",
   "execution_count": 8,
   "metadata": {},
   "outputs": [
    {
     "data": {
      "text/plain": [
       "Sex                  0\n",
       "Age                  0\n",
       "Adress               0\n",
       "FBS                  0\n",
       "Urea                 0\n",
       "Creatinin            0\n",
       "ALB                  0\n",
       "TCa                  0\n",
       "GPT                  0\n",
       "GOT                  0\n",
       "ALP                  0\n",
       "CA15                 0\n",
       "CEA                  0\n",
       "WBC                  0\n",
       "RBC                  0\n",
       "HGB                  0\n",
       "PLT                  0\n",
       "ESR                  0\n",
       "LDH                  0\n",
       "Na                   0\n",
       "K                    0\n",
       "CL                   0\n",
       "CLASS                0\n",
       "ZScore_FBS           0\n",
       "ZScore_Urea          0\n",
       "ZScore_creatinine    0\n",
       "ZScore_ALB           0\n",
       "ZScore_TCa           0\n",
       "ZScore_GPT           0\n",
       "ZScore_GOT           0\n",
       "ZScore_ALP           0\n",
       "ZScore_CA15          0\n",
       "ZScore_CEA           0\n",
       "ZScore_WBC           0\n",
       "ZScore_RBC           0\n",
       "ZScore_HGB           0\n",
       "ZScore_PLT           0\n",
       "ZScore_ESR           0\n",
       "ZScore_LDH           0\n",
       "ZScore_Na            0\n",
       "ZScore_CL            0\n",
       "ZScore_K             0\n",
       "dtype: int64"
      ]
     },
     "execution_count": 8,
     "metadata": {},
     "output_type": "execute_result"
    }
   ],
   "source": [
    "BC.isnull().sum()"
   ]
  },
  {
   "cell_type": "code",
   "execution_count": 9,
   "metadata": {},
   "outputs": [],
   "source": [
    "#assigning nan to the outliers\n",
    "\n",
    "BC['FBS'].values[BC['ZScore_FBS'] > 3] = np.nan\n",
    "BC['FBS'].values[BC['ZScore_FBS'] < -3] = np.nan\n",
    "\n",
    "BC['Urea'].values[BC['ZScore_Urea'] > 3] = np.nan\n",
    "BC['Urea'].values[BC['ZScore_Urea'] < -3] = np.nan\n",
    "\n",
    "BC['Creatinin'].values[BC['ZScore_creatinine'] > 3] = np.nan\n",
    "BC['Creatinin'].values[BC['ZScore_creatinine'] < -3] = np.nan\n",
    "\n",
    "BC['ALB'].values[BC['ZScore_ALB'] > 3] = np.nan\n",
    "BC['ALB'].values[BC['ZScore_ALB'] < -3] = np.nan\n",
    "\n",
    "BC['TCa'].values[BC['ZScore_TCa'] > 3] = np.nan\n",
    "BC['TCa'].values[BC['ZScore_TCa'] < -3] = np.nan\n",
    "\n",
    "BC['GPT'].values[BC['ZScore_GPT'] > 3] = np.nan\n",
    "BC['GPT'].values[BC['ZScore_GPT'] < -3] = np.nan\n",
    "\n",
    "BC['GOT'].values[BC['ZScore_GOT'] > 3] = np.nan\n",
    "BC['GOT'].values[BC['ZScore_GOT'] < -3] = np.nan\n",
    "\n",
    "BC['ALP'].values[BC['ZScore_ALP'] > 3] = np.nan\n",
    "BC['ALP'].values[BC['ZScore_ALP'] < -3] = np.nan\n",
    "\n",
    "BC['CA15'].values[BC['ZScore_CA15'] > 3] = np.nan\n",
    "BC['CA15'].values[BC['ZScore_CA15'] < -3] = np.nan\n",
    "\n",
    "BC['CEA'].values[BC['ZScore_CEA'] > 3] = np.nan\n",
    "BC['CEA'].values[BC['ZScore_CEA'] < -3] = np.nan\n",
    "\n",
    "BC['WBC'].values[BC['ZScore_WBC'] > 3] = np.nan\n",
    "BC['WBC'].values[BC['ZScore_WBC'] < -3] = np.nan\n",
    "\n",
    "BC['RBC'].values[BC['ZScore_RBC'] > 3] = np.nan\n",
    "BC['RBC'].values[BC['ZScore_RBC'] < -3] = np.nan\n",
    "\n",
    "BC['HGB'].values[BC['ZScore_HGB'] > 3] = np.nan\n",
    "BC['HGB'].values[BC['ZScore_HGB'] < -3] = np.nan\n",
    "\n",
    "BC['PLT'].values[BC['ZScore_PLT'] > 3] = np.nan\n",
    "BC['PLT'].values[BC['ZScore_PLT'] < -3] = np.nan\n",
    "\n",
    "BC['ESR'].values[BC['ZScore_ESR'] > 3] = np.nan\n",
    "BC['ESR'].values[BC['ZScore_ESR'] < -3] = np.nan\n",
    "\n",
    "BC['LDH'].values[BC['ZScore_LDH'] > 3] = np.nan\n",
    "BC['LDH'].values[BC['ZScore_LDH'] < -3] = np.nan\n",
    "\n",
    "BC['Na'].values[BC['ZScore_Na'] > 3] = np.nan\n",
    "BC['Na'].values[BC['ZScore_Na'] < -3] = np.nan\n",
    "\n",
    "BC['CL'].values[BC['ZScore_CL'] > 3] = np.nan\n",
    "BC['CL'].values[BC['ZScore_CL'] < -3] = np.nan\n",
    "\n",
    "BC['K'].values[BC['ZScore_K'] > 3] = np.nan\n",
    "BC['K'].values[BC['ZScore_K'] < -3] = np.nan\n"
   ]
  },
  {
   "cell_type": "code",
   "execution_count": 10,
   "metadata": {},
   "outputs": [
    {
     "data": {
      "text/plain": [
       "Sex           0\n",
       "Age           0\n",
       "Adress        0\n",
       "FBS          32\n",
       "Urea         11\n",
       "Creatinin    30\n",
       "ALB           4\n",
       "TCa          27\n",
       "GPT           4\n",
       "GOT           5\n",
       "ALP          32\n",
       "CA15          1\n",
       "CEA           1\n",
       "WBC           0\n",
       "RBC          11\n",
       "HGB           0\n",
       "PLT           0\n",
       "ESR          58\n",
       "LDH          18\n",
       "Na           13\n",
       "K             7\n",
       "CL           64\n",
       "CLASS         0\n",
       "dtype: int64"
      ]
     },
     "execution_count": 10,
     "metadata": {},
     "output_type": "execute_result"
    }
   ],
   "source": [
    "BC.drop([\"ZScore_FBS\",\"ZScore_Urea\",\"ZScore_creatinine\",\"ZScore_ALB\",\"ZScore_TCa\",\"ZScore_GPT\",\"ZScore_GOT\",\"ZScore_ALP\",\n",
    "        \"ZScore_CA15\",\"ZScore_CEA\",\"ZScore_WBC\",\"ZScore_RBC\",\"ZScore_HGB\",\"ZScore_PLT\",\"ZScore_ESR\",\"ZScore_LDH\",\n",
    "        \"ZScore_Na\",\"ZScore_CL\",\"ZScore_K\"],axis=1,inplace=True)\n",
    "\n",
    "BC.isnull().sum()\n"
   ]
  },
  {
   "cell_type": "code",
   "execution_count": 11,
   "metadata": {},
   "outputs": [
    {
     "data": {
      "text/html": [
       "<div>\n",
       "<style scoped>\n",
       "    .dataframe tbody tr th:only-of-type {\n",
       "        vertical-align: middle;\n",
       "    }\n",
       "\n",
       "    .dataframe tbody tr th {\n",
       "        vertical-align: top;\n",
       "    }\n",
       "\n",
       "    .dataframe thead th {\n",
       "        text-align: right;\n",
       "    }\n",
       "</style>\n",
       "<table border=\"1\" class=\"dataframe\">\n",
       "  <thead>\n",
       "    <tr style=\"text-align: right;\">\n",
       "      <th></th>\n",
       "      <th>Sex</th>\n",
       "      <th>Age</th>\n",
       "      <th>Adress</th>\n",
       "      <th>FBS</th>\n",
       "      <th>Urea</th>\n",
       "      <th>Creatinin</th>\n",
       "      <th>ALB</th>\n",
       "      <th>TCa</th>\n",
       "      <th>GPT</th>\n",
       "      <th>GOT</th>\n",
       "      <th>...</th>\n",
       "      <th>WBC</th>\n",
       "      <th>RBC</th>\n",
       "      <th>HGB</th>\n",
       "      <th>PLT</th>\n",
       "      <th>ESR</th>\n",
       "      <th>LDH</th>\n",
       "      <th>Na</th>\n",
       "      <th>K</th>\n",
       "      <th>CL</th>\n",
       "      <th>CLASS</th>\n",
       "    </tr>\n",
       "  </thead>\n",
       "  <tbody>\n",
       "    <tr>\n",
       "      <td>0</td>\n",
       "      <td>1</td>\n",
       "      <td>60</td>\n",
       "      <td>Tragan</td>\n",
       "      <td>100.0</td>\n",
       "      <td>23.0</td>\n",
       "      <td>0.8</td>\n",
       "      <td>3.400000</td>\n",
       "      <td>10.000</td>\n",
       "      <td>20.0</td>\n",
       "      <td>10.0</td>\n",
       "      <td>...</td>\n",
       "      <td>3.4</td>\n",
       "      <td>4.60</td>\n",
       "      <td>13.4</td>\n",
       "      <td>196.0</td>\n",
       "      <td>14.000000</td>\n",
       "      <td>150.0</td>\n",
       "      <td>145.000000</td>\n",
       "      <td>4.50</td>\n",
       "      <td>107.1</td>\n",
       "      <td>0</td>\n",
       "    </tr>\n",
       "    <tr>\n",
       "      <td>1</td>\n",
       "      <td>1</td>\n",
       "      <td>53</td>\n",
       "      <td>Sabha</td>\n",
       "      <td>190.0</td>\n",
       "      <td>27.0</td>\n",
       "      <td>0.6</td>\n",
       "      <td>6.025476</td>\n",
       "      <td>9.300</td>\n",
       "      <td>11.0</td>\n",
       "      <td>17.0</td>\n",
       "      <td>...</td>\n",
       "      <td>4.4</td>\n",
       "      <td>5.00</td>\n",
       "      <td>12.5</td>\n",
       "      <td>155.0</td>\n",
       "      <td>24.520661</td>\n",
       "      <td>260.0</td>\n",
       "      <td>139.200000</td>\n",
       "      <td>4.17</td>\n",
       "      <td>106.4</td>\n",
       "      <td>0</td>\n",
       "    </tr>\n",
       "    <tr>\n",
       "      <td>2</td>\n",
       "      <td>1</td>\n",
       "      <td>50</td>\n",
       "      <td>Sabha</td>\n",
       "      <td>150.0</td>\n",
       "      <td>15.0</td>\n",
       "      <td>1.1</td>\n",
       "      <td>3.500000</td>\n",
       "      <td>8.500</td>\n",
       "      <td>13.0</td>\n",
       "      <td>10.0</td>\n",
       "      <td>...</td>\n",
       "      <td>5.1</td>\n",
       "      <td>4.46</td>\n",
       "      <td>13.8</td>\n",
       "      <td>312.0</td>\n",
       "      <td>24.520661</td>\n",
       "      <td>169.0</td>\n",
       "      <td>140.000000</td>\n",
       "      <td>4.00</td>\n",
       "      <td>100.1</td>\n",
       "      <td>0</td>\n",
       "    </tr>\n",
       "    <tr>\n",
       "      <td>3</td>\n",
       "      <td>1</td>\n",
       "      <td>36</td>\n",
       "      <td>Obaree-center</td>\n",
       "      <td>80.0</td>\n",
       "      <td>20.0</td>\n",
       "      <td>1.0</td>\n",
       "      <td>4.200000</td>\n",
       "      <td>8.000</td>\n",
       "      <td>7.0</td>\n",
       "      <td>13.0</td>\n",
       "      <td>...</td>\n",
       "      <td>3.1</td>\n",
       "      <td>4.33</td>\n",
       "      <td>10.7</td>\n",
       "      <td>212.0</td>\n",
       "      <td>10.000000</td>\n",
       "      <td>138.0</td>\n",
       "      <td>136.400000</td>\n",
       "      <td>4.06</td>\n",
       "      <td>107.1</td>\n",
       "      <td>0</td>\n",
       "    </tr>\n",
       "    <tr>\n",
       "      <td>4</td>\n",
       "      <td>1</td>\n",
       "      <td>30</td>\n",
       "      <td>Obaree-center</td>\n",
       "      <td>80.0</td>\n",
       "      <td>40.0</td>\n",
       "      <td>0.8</td>\n",
       "      <td>3.000000</td>\n",
       "      <td>9.946</td>\n",
       "      <td>9.0</td>\n",
       "      <td>15.0</td>\n",
       "      <td>...</td>\n",
       "      <td>4.2</td>\n",
       "      <td>4.13</td>\n",
       "      <td>12.3</td>\n",
       "      <td>243.0</td>\n",
       "      <td>5.000000</td>\n",
       "      <td>154.0</td>\n",
       "      <td>153.698856</td>\n",
       "      <td>4.00</td>\n",
       "      <td>106.2</td>\n",
       "      <td>0</td>\n",
       "    </tr>\n",
       "    <tr>\n",
       "      <td>...</td>\n",
       "      <td>...</td>\n",
       "      <td>...</td>\n",
       "      <td>...</td>\n",
       "      <td>...</td>\n",
       "      <td>...</td>\n",
       "      <td>...</td>\n",
       "      <td>...</td>\n",
       "      <td>...</td>\n",
       "      <td>...</td>\n",
       "      <td>...</td>\n",
       "      <td>...</td>\n",
       "      <td>...</td>\n",
       "      <td>...</td>\n",
       "      <td>...</td>\n",
       "      <td>...</td>\n",
       "      <td>...</td>\n",
       "      <td>...</td>\n",
       "      <td>...</td>\n",
       "      <td>...</td>\n",
       "      <td>...</td>\n",
       "      <td>...</td>\n",
       "    </tr>\n",
       "    <tr>\n",
       "      <td>2430</td>\n",
       "      <td>1</td>\n",
       "      <td>30</td>\n",
       "      <td>Algatroon</td>\n",
       "      <td>146.0</td>\n",
       "      <td>28.0</td>\n",
       "      <td>0.7</td>\n",
       "      <td>4.000000</td>\n",
       "      <td>9.500</td>\n",
       "      <td>63.0</td>\n",
       "      <td>23.0</td>\n",
       "      <td>...</td>\n",
       "      <td>3.9</td>\n",
       "      <td>5.23</td>\n",
       "      <td>11.3</td>\n",
       "      <td>288.0</td>\n",
       "      <td>15.000000</td>\n",
       "      <td>254.0</td>\n",
       "      <td>138.700000</td>\n",
       "      <td>4.35</td>\n",
       "      <td>103.6</td>\n",
       "      <td>1</td>\n",
       "    </tr>\n",
       "    <tr>\n",
       "      <td>2431</td>\n",
       "      <td>1</td>\n",
       "      <td>47</td>\n",
       "      <td>Sabha</td>\n",
       "      <td>90.0</td>\n",
       "      <td>32.0</td>\n",
       "      <td>0.8</td>\n",
       "      <td>4.700000</td>\n",
       "      <td>8.800</td>\n",
       "      <td>82.0</td>\n",
       "      <td>23.0</td>\n",
       "      <td>...</td>\n",
       "      <td>4.8</td>\n",
       "      <td>4.57</td>\n",
       "      <td>13.2</td>\n",
       "      <td>249.0</td>\n",
       "      <td>12.000000</td>\n",
       "      <td>254.0</td>\n",
       "      <td>142.300000</td>\n",
       "      <td>4.40</td>\n",
       "      <td>102.7</td>\n",
       "      <td>1</td>\n",
       "    </tr>\n",
       "    <tr>\n",
       "      <td>2432</td>\n",
       "      <td>1</td>\n",
       "      <td>43</td>\n",
       "      <td>Sabha</td>\n",
       "      <td>70.0</td>\n",
       "      <td>15.0</td>\n",
       "      <td>0.6</td>\n",
       "      <td>3.500000</td>\n",
       "      <td>8.100</td>\n",
       "      <td>22.0</td>\n",
       "      <td>15.0</td>\n",
       "      <td>...</td>\n",
       "      <td>4.4</td>\n",
       "      <td>4.32</td>\n",
       "      <td>11.1</td>\n",
       "      <td>249.0</td>\n",
       "      <td>8.000000</td>\n",
       "      <td>254.0</td>\n",
       "      <td>137.800000</td>\n",
       "      <td>4.25</td>\n",
       "      <td>110.2</td>\n",
       "      <td>1</td>\n",
       "    </tr>\n",
       "    <tr>\n",
       "      <td>2433</td>\n",
       "      <td>1</td>\n",
       "      <td>60</td>\n",
       "      <td>Sabha</td>\n",
       "      <td>98.0</td>\n",
       "      <td>29.0</td>\n",
       "      <td>0.9</td>\n",
       "      <td>4.800000</td>\n",
       "      <td>8.200</td>\n",
       "      <td>51.0</td>\n",
       "      <td>17.0</td>\n",
       "      <td>...</td>\n",
       "      <td>4.5</td>\n",
       "      <td>4.41</td>\n",
       "      <td>12.9</td>\n",
       "      <td>293.0</td>\n",
       "      <td>13.000000</td>\n",
       "      <td>254.0</td>\n",
       "      <td>147.500000</td>\n",
       "      <td>3.15</td>\n",
       "      <td>107.5</td>\n",
       "      <td>1</td>\n",
       "    </tr>\n",
       "    <tr>\n",
       "      <td>2434</td>\n",
       "      <td>1</td>\n",
       "      <td>68</td>\n",
       "      <td>Sabha</td>\n",
       "      <td>76.0</td>\n",
       "      <td>29.0</td>\n",
       "      <td>0.6</td>\n",
       "      <td>4.200000</td>\n",
       "      <td>8.500</td>\n",
       "      <td>83.0</td>\n",
       "      <td>20.0</td>\n",
       "      <td>...</td>\n",
       "      <td>3.4</td>\n",
       "      <td>4.42</td>\n",
       "      <td>11.0</td>\n",
       "      <td>199.0</td>\n",
       "      <td>15.000000</td>\n",
       "      <td>254.0</td>\n",
       "      <td>142.300000</td>\n",
       "      <td>3.23</td>\n",
       "      <td>107.5</td>\n",
       "      <td>1</td>\n",
       "    </tr>\n",
       "  </tbody>\n",
       "</table>\n",
       "<p>2435 rows × 23 columns</p>\n",
       "</div>"
      ],
      "text/plain": [
       "      Sex  Age         Adress    FBS  Urea  Creatinin       ALB     TCa   GPT  \\\n",
       "0       1   60         Tragan  100.0  23.0        0.8  3.400000  10.000  20.0   \n",
       "1       1   53          Sabha  190.0  27.0        0.6  6.025476   9.300  11.0   \n",
       "2       1   50          Sabha  150.0  15.0        1.1  3.500000   8.500  13.0   \n",
       "3       1   36  Obaree-center   80.0  20.0        1.0  4.200000   8.000   7.0   \n",
       "4       1   30  Obaree-center   80.0  40.0        0.8  3.000000   9.946   9.0   \n",
       "...   ...  ...            ...    ...   ...        ...       ...     ...   ...   \n",
       "2430    1   30      Algatroon  146.0  28.0        0.7  4.000000   9.500  63.0   \n",
       "2431    1   47          Sabha   90.0  32.0        0.8  4.700000   8.800  82.0   \n",
       "2432    1   43          Sabha   70.0  15.0        0.6  3.500000   8.100  22.0   \n",
       "2433    1   60          Sabha   98.0  29.0        0.9  4.800000   8.200  51.0   \n",
       "2434    1   68          Sabha   76.0  29.0        0.6  4.200000   8.500  83.0   \n",
       "\n",
       "       GOT  ...  WBC   RBC   HGB    PLT        ESR    LDH          Na     K  \\\n",
       "0     10.0  ...  3.4  4.60  13.4  196.0  14.000000  150.0  145.000000  4.50   \n",
       "1     17.0  ...  4.4  5.00  12.5  155.0  24.520661  260.0  139.200000  4.17   \n",
       "2     10.0  ...  5.1  4.46  13.8  312.0  24.520661  169.0  140.000000  4.00   \n",
       "3     13.0  ...  3.1  4.33  10.7  212.0  10.000000  138.0  136.400000  4.06   \n",
       "4     15.0  ...  4.2  4.13  12.3  243.0   5.000000  154.0  153.698856  4.00   \n",
       "...    ...  ...  ...   ...   ...    ...        ...    ...         ...   ...   \n",
       "2430  23.0  ...  3.9  5.23  11.3  288.0  15.000000  254.0  138.700000  4.35   \n",
       "2431  23.0  ...  4.8  4.57  13.2  249.0  12.000000  254.0  142.300000  4.40   \n",
       "2432  15.0  ...  4.4  4.32  11.1  249.0   8.000000  254.0  137.800000  4.25   \n",
       "2433  17.0  ...  4.5  4.41  12.9  293.0  13.000000  254.0  147.500000  3.15   \n",
       "2434  20.0  ...  3.4  4.42  11.0  199.0  15.000000  254.0  142.300000  3.23   \n",
       "\n",
       "         CL  CLASS  \n",
       "0     107.1      0  \n",
       "1     106.4      0  \n",
       "2     100.1      0  \n",
       "3     107.1      0  \n",
       "4     106.2      0  \n",
       "...     ...    ...  \n",
       "2430  103.6      1  \n",
       "2431  102.7      1  \n",
       "2432  110.2      1  \n",
       "2433  107.5      1  \n",
       "2434  107.5      1  \n",
       "\n",
       "[2435 rows x 23 columns]"
      ]
     },
     "execution_count": 11,
     "metadata": {},
     "output_type": "execute_result"
    }
   ],
   "source": [
    "#imputing nan values\n",
    "\n",
    "BC[\"FBS\"].fillna(BC[\"FBS\"].mean(), inplace=True)\n",
    "BC[\"Urea\"].fillna(BC[\"Urea\"].mean(), inplace=True)\n",
    "BC[\"Creatinin\"].fillna(BC[\"Creatinin\"].mean(), inplace=True)\n",
    "BC[\"ALB\"].fillna(BC[\"ALB\"].mean(), inplace=True)\n",
    "BC[\"TCa\"].fillna(BC[\"TCa\"].mean(), inplace=True)\n",
    "BC[\"GPT\"].fillna(BC[\"GPT\"].mean(), inplace=True)\n",
    "BC[\"GOT\"].fillna(BC[\"GOT\"].mean(), inplace=True)\n",
    "BC[\"ALP\"].fillna(BC[\"ALP\"].mean(), inplace=True)\n",
    "BC[\"WBC\"].fillna(BC[\"WBC\"].mean(), inplace=True)\n",
    "BC[\"HGB\"].fillna(BC[\"HGB\"].mean(), inplace=True)\n",
    "BC[\"RBC\"].fillna(BC[\"RBC\"].mean(), inplace=True)\n",
    "BC[\"PLT\"].fillna(BC[\"PLT\"].mean(), inplace=True)\n",
    "BC[\"ESR\"].fillna(BC[\"ESR\"].mean(), inplace=True)\n",
    "BC[\"LDH\"].fillna(BC[\"LDH\"].mean(), inplace=True)\n",
    "BC[\"Na\"].fillna(BC[\"Na\"].mean(), inplace=True)\n",
    "BC[\"K\"].fillna(BC[\"K\"].mean(), inplace=True)\n",
    "BC[\"CL\"].fillna(BC[\"CL\"].mean(), inplace=True)\n",
    "BC[\"CA15\"].fillna(BC[\"CA15\"].mean(), inplace=True)\n",
    "BC[\"CEA\"].fillna(BC[\"CEA\"].mean(), inplace=True)\n",
    "BC"
   ]
  },
  {
   "cell_type": "markdown",
   "metadata": {},
   "source": [
    "# LabelEncoder for object featurs"
   ]
  },
  {
   "cell_type": "code",
   "execution_count": 12,
   "metadata": {},
   "outputs": [],
   "source": [
    "\n",
    "\n",
    "from sklearn.preprocessing import LabelEncoder\n",
    "le = LabelEncoder()\n",
    "cols = BC.columns.tolist()\n",
    "for column in cols:\n",
    "    if BC[column].dtype == 'object':\n",
    "        BC[column] = le.fit_transform(BC[column])"
   ]
  },
  {
   "cell_type": "code",
   "execution_count": 13,
   "metadata": {},
   "outputs": [
    {
     "data": {
      "text/html": [
       "<div>\n",
       "<style scoped>\n",
       "    .dataframe tbody tr th:only-of-type {\n",
       "        vertical-align: middle;\n",
       "    }\n",
       "\n",
       "    .dataframe tbody tr th {\n",
       "        vertical-align: top;\n",
       "    }\n",
       "\n",
       "    .dataframe thead th {\n",
       "        text-align: right;\n",
       "    }\n",
       "</style>\n",
       "<table border=\"1\" class=\"dataframe\">\n",
       "  <thead>\n",
       "    <tr style=\"text-align: right;\">\n",
       "      <th></th>\n",
       "      <th>Sex</th>\n",
       "      <th>Age</th>\n",
       "      <th>Adress</th>\n",
       "      <th>FBS</th>\n",
       "      <th>Urea</th>\n",
       "      <th>Creatinin</th>\n",
       "      <th>ALB</th>\n",
       "      <th>TCa</th>\n",
       "      <th>GPT</th>\n",
       "      <th>GOT</th>\n",
       "      <th>...</th>\n",
       "      <th>WBC</th>\n",
       "      <th>RBC</th>\n",
       "      <th>HGB</th>\n",
       "      <th>PLT</th>\n",
       "      <th>ESR</th>\n",
       "      <th>LDH</th>\n",
       "      <th>Na</th>\n",
       "      <th>K</th>\n",
       "      <th>CL</th>\n",
       "      <th>CLASS</th>\n",
       "    </tr>\n",
       "  </thead>\n",
       "  <tbody>\n",
       "    <tr>\n",
       "      <td>0</td>\n",
       "      <td>1</td>\n",
       "      <td>60</td>\n",
       "      <td>24</td>\n",
       "      <td>100.0</td>\n",
       "      <td>23.0</td>\n",
       "      <td>0.8</td>\n",
       "      <td>3.400000</td>\n",
       "      <td>10.000</td>\n",
       "      <td>20.0</td>\n",
       "      <td>10.0</td>\n",
       "      <td>...</td>\n",
       "      <td>3.4</td>\n",
       "      <td>4.60</td>\n",
       "      <td>13.4</td>\n",
       "      <td>196.0</td>\n",
       "      <td>14.000000</td>\n",
       "      <td>150.0</td>\n",
       "      <td>145.000000</td>\n",
       "      <td>4.50</td>\n",
       "      <td>107.1</td>\n",
       "      <td>0</td>\n",
       "    </tr>\n",
       "    <tr>\n",
       "      <td>1</td>\n",
       "      <td>1</td>\n",
       "      <td>53</td>\n",
       "      <td>19</td>\n",
       "      <td>190.0</td>\n",
       "      <td>27.0</td>\n",
       "      <td>0.6</td>\n",
       "      <td>6.025476</td>\n",
       "      <td>9.300</td>\n",
       "      <td>11.0</td>\n",
       "      <td>17.0</td>\n",
       "      <td>...</td>\n",
       "      <td>4.4</td>\n",
       "      <td>5.00</td>\n",
       "      <td>12.5</td>\n",
       "      <td>155.0</td>\n",
       "      <td>24.520661</td>\n",
       "      <td>260.0</td>\n",
       "      <td>139.200000</td>\n",
       "      <td>4.17</td>\n",
       "      <td>106.4</td>\n",
       "      <td>0</td>\n",
       "    </tr>\n",
       "    <tr>\n",
       "      <td>2</td>\n",
       "      <td>1</td>\n",
       "      <td>50</td>\n",
       "      <td>19</td>\n",
       "      <td>150.0</td>\n",
       "      <td>15.0</td>\n",
       "      <td>1.1</td>\n",
       "      <td>3.500000</td>\n",
       "      <td>8.500</td>\n",
       "      <td>13.0</td>\n",
       "      <td>10.0</td>\n",
       "      <td>...</td>\n",
       "      <td>5.1</td>\n",
       "      <td>4.46</td>\n",
       "      <td>13.8</td>\n",
       "      <td>312.0</td>\n",
       "      <td>24.520661</td>\n",
       "      <td>169.0</td>\n",
       "      <td>140.000000</td>\n",
       "      <td>4.00</td>\n",
       "      <td>100.1</td>\n",
       "      <td>0</td>\n",
       "    </tr>\n",
       "    <tr>\n",
       "      <td>3</td>\n",
       "      <td>1</td>\n",
       "      <td>36</td>\n",
       "      <td>17</td>\n",
       "      <td>80.0</td>\n",
       "      <td>20.0</td>\n",
       "      <td>1.0</td>\n",
       "      <td>4.200000</td>\n",
       "      <td>8.000</td>\n",
       "      <td>7.0</td>\n",
       "      <td>13.0</td>\n",
       "      <td>...</td>\n",
       "      <td>3.1</td>\n",
       "      <td>4.33</td>\n",
       "      <td>10.7</td>\n",
       "      <td>212.0</td>\n",
       "      <td>10.000000</td>\n",
       "      <td>138.0</td>\n",
       "      <td>136.400000</td>\n",
       "      <td>4.06</td>\n",
       "      <td>107.1</td>\n",
       "      <td>0</td>\n",
       "    </tr>\n",
       "    <tr>\n",
       "      <td>4</td>\n",
       "      <td>1</td>\n",
       "      <td>30</td>\n",
       "      <td>17</td>\n",
       "      <td>80.0</td>\n",
       "      <td>40.0</td>\n",
       "      <td>0.8</td>\n",
       "      <td>3.000000</td>\n",
       "      <td>9.946</td>\n",
       "      <td>9.0</td>\n",
       "      <td>15.0</td>\n",
       "      <td>...</td>\n",
       "      <td>4.2</td>\n",
       "      <td>4.13</td>\n",
       "      <td>12.3</td>\n",
       "      <td>243.0</td>\n",
       "      <td>5.000000</td>\n",
       "      <td>154.0</td>\n",
       "      <td>153.698856</td>\n",
       "      <td>4.00</td>\n",
       "      <td>106.2</td>\n",
       "      <td>0</td>\n",
       "    </tr>\n",
       "    <tr>\n",
       "      <td>...</td>\n",
       "      <td>...</td>\n",
       "      <td>...</td>\n",
       "      <td>...</td>\n",
       "      <td>...</td>\n",
       "      <td>...</td>\n",
       "      <td>...</td>\n",
       "      <td>...</td>\n",
       "      <td>...</td>\n",
       "      <td>...</td>\n",
       "      <td>...</td>\n",
       "      <td>...</td>\n",
       "      <td>...</td>\n",
       "      <td>...</td>\n",
       "      <td>...</td>\n",
       "      <td>...</td>\n",
       "      <td>...</td>\n",
       "      <td>...</td>\n",
       "      <td>...</td>\n",
       "      <td>...</td>\n",
       "      <td>...</td>\n",
       "      <td>...</td>\n",
       "    </tr>\n",
       "    <tr>\n",
       "      <td>2430</td>\n",
       "      <td>1</td>\n",
       "      <td>30</td>\n",
       "      <td>4</td>\n",
       "      <td>146.0</td>\n",
       "      <td>28.0</td>\n",
       "      <td>0.7</td>\n",
       "      <td>4.000000</td>\n",
       "      <td>9.500</td>\n",
       "      <td>63.0</td>\n",
       "      <td>23.0</td>\n",
       "      <td>...</td>\n",
       "      <td>3.9</td>\n",
       "      <td>5.23</td>\n",
       "      <td>11.3</td>\n",
       "      <td>288.0</td>\n",
       "      <td>15.000000</td>\n",
       "      <td>254.0</td>\n",
       "      <td>138.700000</td>\n",
       "      <td>4.35</td>\n",
       "      <td>103.6</td>\n",
       "      <td>1</td>\n",
       "    </tr>\n",
       "    <tr>\n",
       "      <td>2431</td>\n",
       "      <td>1</td>\n",
       "      <td>47</td>\n",
       "      <td>19</td>\n",
       "      <td>90.0</td>\n",
       "      <td>32.0</td>\n",
       "      <td>0.8</td>\n",
       "      <td>4.700000</td>\n",
       "      <td>8.800</td>\n",
       "      <td>82.0</td>\n",
       "      <td>23.0</td>\n",
       "      <td>...</td>\n",
       "      <td>4.8</td>\n",
       "      <td>4.57</td>\n",
       "      <td>13.2</td>\n",
       "      <td>249.0</td>\n",
       "      <td>12.000000</td>\n",
       "      <td>254.0</td>\n",
       "      <td>142.300000</td>\n",
       "      <td>4.40</td>\n",
       "      <td>102.7</td>\n",
       "      <td>1</td>\n",
       "    </tr>\n",
       "    <tr>\n",
       "      <td>2432</td>\n",
       "      <td>1</td>\n",
       "      <td>43</td>\n",
       "      <td>19</td>\n",
       "      <td>70.0</td>\n",
       "      <td>15.0</td>\n",
       "      <td>0.6</td>\n",
       "      <td>3.500000</td>\n",
       "      <td>8.100</td>\n",
       "      <td>22.0</td>\n",
       "      <td>15.0</td>\n",
       "      <td>...</td>\n",
       "      <td>4.4</td>\n",
       "      <td>4.32</td>\n",
       "      <td>11.1</td>\n",
       "      <td>249.0</td>\n",
       "      <td>8.000000</td>\n",
       "      <td>254.0</td>\n",
       "      <td>137.800000</td>\n",
       "      <td>4.25</td>\n",
       "      <td>110.2</td>\n",
       "      <td>1</td>\n",
       "    </tr>\n",
       "    <tr>\n",
       "      <td>2433</td>\n",
       "      <td>1</td>\n",
       "      <td>60</td>\n",
       "      <td>19</td>\n",
       "      <td>98.0</td>\n",
       "      <td>29.0</td>\n",
       "      <td>0.9</td>\n",
       "      <td>4.800000</td>\n",
       "      <td>8.200</td>\n",
       "      <td>51.0</td>\n",
       "      <td>17.0</td>\n",
       "      <td>...</td>\n",
       "      <td>4.5</td>\n",
       "      <td>4.41</td>\n",
       "      <td>12.9</td>\n",
       "      <td>293.0</td>\n",
       "      <td>13.000000</td>\n",
       "      <td>254.0</td>\n",
       "      <td>147.500000</td>\n",
       "      <td>3.15</td>\n",
       "      <td>107.5</td>\n",
       "      <td>1</td>\n",
       "    </tr>\n",
       "    <tr>\n",
       "      <td>2434</td>\n",
       "      <td>1</td>\n",
       "      <td>68</td>\n",
       "      <td>19</td>\n",
       "      <td>76.0</td>\n",
       "      <td>29.0</td>\n",
       "      <td>0.6</td>\n",
       "      <td>4.200000</td>\n",
       "      <td>8.500</td>\n",
       "      <td>83.0</td>\n",
       "      <td>20.0</td>\n",
       "      <td>...</td>\n",
       "      <td>3.4</td>\n",
       "      <td>4.42</td>\n",
       "      <td>11.0</td>\n",
       "      <td>199.0</td>\n",
       "      <td>15.000000</td>\n",
       "      <td>254.0</td>\n",
       "      <td>142.300000</td>\n",
       "      <td>3.23</td>\n",
       "      <td>107.5</td>\n",
       "      <td>1</td>\n",
       "    </tr>\n",
       "  </tbody>\n",
       "</table>\n",
       "<p>2435 rows × 23 columns</p>\n",
       "</div>"
      ],
      "text/plain": [
       "      Sex  Age  Adress    FBS  Urea  Creatinin       ALB     TCa   GPT   GOT  \\\n",
       "0       1   60      24  100.0  23.0        0.8  3.400000  10.000  20.0  10.0   \n",
       "1       1   53      19  190.0  27.0        0.6  6.025476   9.300  11.0  17.0   \n",
       "2       1   50      19  150.0  15.0        1.1  3.500000   8.500  13.0  10.0   \n",
       "3       1   36      17   80.0  20.0        1.0  4.200000   8.000   7.0  13.0   \n",
       "4       1   30      17   80.0  40.0        0.8  3.000000   9.946   9.0  15.0   \n",
       "...   ...  ...     ...    ...   ...        ...       ...     ...   ...   ...   \n",
       "2430    1   30       4  146.0  28.0        0.7  4.000000   9.500  63.0  23.0   \n",
       "2431    1   47      19   90.0  32.0        0.8  4.700000   8.800  82.0  23.0   \n",
       "2432    1   43      19   70.0  15.0        0.6  3.500000   8.100  22.0  15.0   \n",
       "2433    1   60      19   98.0  29.0        0.9  4.800000   8.200  51.0  17.0   \n",
       "2434    1   68      19   76.0  29.0        0.6  4.200000   8.500  83.0  20.0   \n",
       "\n",
       "      ...  WBC   RBC   HGB    PLT        ESR    LDH          Na     K     CL  \\\n",
       "0     ...  3.4  4.60  13.4  196.0  14.000000  150.0  145.000000  4.50  107.1   \n",
       "1     ...  4.4  5.00  12.5  155.0  24.520661  260.0  139.200000  4.17  106.4   \n",
       "2     ...  5.1  4.46  13.8  312.0  24.520661  169.0  140.000000  4.00  100.1   \n",
       "3     ...  3.1  4.33  10.7  212.0  10.000000  138.0  136.400000  4.06  107.1   \n",
       "4     ...  4.2  4.13  12.3  243.0   5.000000  154.0  153.698856  4.00  106.2   \n",
       "...   ...  ...   ...   ...    ...        ...    ...         ...   ...    ...   \n",
       "2430  ...  3.9  5.23  11.3  288.0  15.000000  254.0  138.700000  4.35  103.6   \n",
       "2431  ...  4.8  4.57  13.2  249.0  12.000000  254.0  142.300000  4.40  102.7   \n",
       "2432  ...  4.4  4.32  11.1  249.0   8.000000  254.0  137.800000  4.25  110.2   \n",
       "2433  ...  4.5  4.41  12.9  293.0  13.000000  254.0  147.500000  3.15  107.5   \n",
       "2434  ...  3.4  4.42  11.0  199.0  15.000000  254.0  142.300000  3.23  107.5   \n",
       "\n",
       "      CLASS  \n",
       "0         0  \n",
       "1         0  \n",
       "2         0  \n",
       "3         0  \n",
       "4         0  \n",
       "...     ...  \n",
       "2430      1  \n",
       "2431      1  \n",
       "2432      1  \n",
       "2433      1  \n",
       "2434      1  \n",
       "\n",
       "[2435 rows x 23 columns]"
      ]
     },
     "execution_count": 13,
     "metadata": {},
     "output_type": "execute_result"
    }
   ],
   "source": [
    "BC"
   ]
  },
  {
   "cell_type": "code",
   "execution_count": null,
   "metadata": {},
   "outputs": [],
   "source": []
  },
  {
   "cell_type": "markdown",
   "metadata": {},
   "source": [
    "## بناء النموذج"
   ]
  },
  {
   "cell_type": "markdown",
   "metadata": {},
   "source": [
    "##  تقسيم البيانات"
   ]
  },
  {
   "cell_type": "code",
   "execution_count": null,
   "metadata": {},
   "outputs": [],
   "source": []
  },
  {
   "cell_type": "code",
   "execution_count": 14,
   "metadata": {},
   "outputs": [],
   "source": [
    "from sklearn.pipeline import Pipeline # streaming pipelines\n",
    "from time import time\n",
    "\n",
    "from sklearn.model_selection import (train_test_split, KFold , StratifiedKFold, \n",
    "                                     cross_val_score, GridSearchCV, \n",
    "                                     learning_curve, validation_curve)\n",
    "\n",
    "from sklearn.neighbors import KNeighborsClassifier\n",
    "from sklearn.naive_bayes import GaussianNB\n",
    "from sklearn.tree import DecisionTreeClassifier\n",
    "from sklearn.linear_model import LogisticRegression\n",
    "\n",
    "from sklearn.preprocessing import StandardScaler\n",
    "\n"
   ]
  },
  {
   "cell_type": "code",
   "execution_count": 15,
   "metadata": {
    "_cell_guid": "a19d0852-9efa-061e-b7df-8a99342b63a0"
   },
   "outputs": [],
   "source": [
    "# Define X as features and y as lablels\n",
    "\n",
    "X = BC[['Adress','Age','FBS', 'Urea','ALB', 'TCa', 'GPT','ALP','CA15','CEA','WBC','RBC','PLT','ESR','LDH']].values\n",
    "y = BC['CLASS'].values\n",
    "\n",
    "# set a seed and a test size for splitting the dataset \n",
    "\n",
    "test_size = 0.2\n",
    "\n",
    "X_train, X_test, y_train, y_test = train_test_split(X, y, test_size = test_size , random_state = 101)"
   ]
  },
  {
   "cell_type": "code",
   "execution_count": 16,
   "metadata": {},
   "outputs": [],
   "source": [
    "clf_gini=DecisionTreeClassifier(max_depth=3,min_samples_leaf=2,max_leaf_nodes=12, min_samples_split=22,random_state=10)\n"
   ]
  },
  {
   "cell_type": "code",
   "execution_count": 17,
   "metadata": {},
   "outputs": [
    {
     "data": {
      "text/plain": [
       "[Text(334.80000000000007, 380.52, 'X[9] <= 4.31\\ngini = 0.495\\nsamples = 1948\\nvalue = [1070, 878]'),\n",
       " Text(200.88000000000002, 271.8, 'X[6] <= 50.5\\ngini = 0.08\\nsamples = 1080\\nvalue = [1035, 45]'),\n",
       " Text(133.92000000000002, 163.07999999999998, 'X[7] <= 197.0\\ngini = 0.048\\nsamples = 1059\\nvalue = [1033, 26]'),\n",
       " Text(66.96000000000001, 54.360000000000014, 'gini = 0.017\\nsamples = 1031\\nvalue = [1022, 9]'),\n",
       " Text(200.88000000000002, 54.360000000000014, 'gini = 0.477\\nsamples = 28\\nvalue = [11, 17]'),\n",
       " Text(267.84000000000003, 163.07999999999998, 'gini = 0.172\\nsamples = 21\\nvalue = [2, 19]'),\n",
       " Text(468.72, 271.8, 'X[10] <= 8.705\\ngini = 0.077\\nsamples = 868\\nvalue = [35, 833]'),\n",
       " Text(401.76000000000005, 163.07999999999998, 'gini = 0.245\\nsamples = 7\\nvalue = [6, 1]'),\n",
       " Text(535.6800000000001, 163.07999999999998, 'X[0] <= 3.5\\ngini = 0.065\\nsamples = 861\\nvalue = [29, 832]'),\n",
       " Text(468.72, 54.360000000000014, 'gini = 0.232\\nsamples = 172\\nvalue = [23, 149]'),\n",
       " Text(602.6400000000001, 54.360000000000014, 'gini = 0.017\\nsamples = 689\\nvalue = [6, 683]')]"
      ]
     },
     "execution_count": 17,
     "metadata": {},
     "output_type": "execute_result"
    },
    {
     "data": {
      "image/png": "[encoded data removed]",
      "text/plain": [
       "<Figure size 864x576 with 1 Axes>"
      ]
     },
     "metadata": {
      "needs_background": "light"
     },
     "output_type": "display_data"
    }
   ],
   "source": [
    "plt.figure(figsize=(12,8))\n",
    "\n",
    "from sklearn import tree\n",
    "\n",
    "tree.plot_tree(clf_gini.fit(X_train, y_train)) "
   ]
  },
  {
   "cell_type": "markdown",
   "metadata": {
    "_cell_guid": "22e166b7-f499-adf8-3f59-78bfedd7ca8d"
   },
   "source": [
    "### - Compare Algorithms"
   ]
  },
  {
   "cell_type": "markdown",
   "metadata": {
    "_cell_guid": "b9097176-6913-d004-8943-19e6c9e801b4"
   },
   "source": [
    "Now it's time to compare the performance of different machine learning algorithms. We'll use 10-folds cross-validation to assess the performance of each model with the metric being the classification accuracy. Pipelines encompassing Standarization and PCA are used in order to avoid data leakage. Standarization is not performed for tree-based methods."
   ]
  },
  {
   "cell_type": "code",
   "execution_count": 18,
   "metadata": {
    "_cell_guid": "ae576fd3-697e-88a2-294b-d08a60adcc84"
   },
   "outputs": [
    {
     "name": "stdout",
     "output_type": "stream",
     "text": [
      "NB: 95.844171 (+/- 1.699697) performed in 3.605381 seconds\n",
      "KNN: 95.279790 (+/- 2.060549) performed in 0.318564 seconds\n",
      "CART: 97.127571 (+/- 1.606498) performed in 0.143908 seconds\n",
      "LR: 95.586428 (+/- 1.922612) performed in 0.163318 seconds\n"
     ]
    },
    {
     "data": {
      "image/png": "[encoded data removed]",
      "text/plain": [
       "<Figure size 864x576 with 1 Axes>"
      ]
     },
     "metadata": {
      "needs_background": "light"
     },
     "output_type": "display_data"
    }
   ],
   "source": [
    "pipelines = []\n",
    "\n",
    "#print(df.shape)\n",
    "pipelines.append( ('NB',\n",
    "                   Pipeline([\n",
    "                              ('sc', StandardScaler()),\n",
    "                             ('NB', GaussianNB())]) ) )\n",
    "\n",
    "\n",
    "pipelines.append(('KNN',\n",
    "                  Pipeline([ \n",
    "                               \n",
    "                            ('KNN', KNeighborsClassifier()) ])))\n",
    "\n",
    "pipelines.append( ('CART',\n",
    "                   Pipeline([\n",
    "                              ('sc', StandardScaler()),\n",
    "                             ('CART', DecisionTreeClassifier(max_depth=3,min_samples_leaf=2,max_leaf_nodes=12, min_samples_split=22,random_state=10)) ]) ))\n",
    "\n",
    "pipelines.append( ('LR',\n",
    "                   Pipeline([\n",
    "                              ('sc', StandardScaler()),\n",
    "                             ('LR', LogisticRegression()) ]) ))\n",
    "\n",
    "\n",
    "\n",
    "results, names, times  = [], [] , []\n",
    "num_folds = 20\n",
    "scoring = 'accuracy'\n",
    "\n",
    "for name, model in pipelines:\n",
    "    start = time()\n",
    "    kfold = StratifiedKFold(n_splits=num_folds, random_state=101)\n",
    "    cv_results = cross_val_score(model, X_train, y_train, cv=kfold, scoring = scoring,\n",
    "                                n_jobs=-1) \n",
    "    t_elapsed = time() - start\n",
    "    results.append(cv_results)\n",
    "    names.append(name)\n",
    "    times.append(t_elapsed)\n",
    "    msg = \"%s: %f (+/- %f) performed in %f seconds\" % (name, 100*cv_results.mean(), \n",
    "                                                       100*cv_results.std(), t_elapsed)\n",
    "    print(msg)\n",
    "\n",
    "\n",
    "fig = plt.figure(figsize=(12,8))    \n",
    "fig.suptitle(\"Algorithms comparison\")\n",
    "ax = fig.add_subplot(1,1,1)\n",
    "plt.boxplot(results)\n",
    "ax.set_xticklabels(names)\n",
    "plt.show()"
   ]
  },
  {
   "cell_type": "code",
   "execution_count": 19,
   "metadata": {},
   "outputs": [
    {
     "name": "stdout",
     "output_type": "stream",
     "text": [
      "NB: 94.883721 (+/- 3.435217) performed in 0.140409 seconds\n",
      "KNN: 93.974630 (+/- 3.681319) performed in 0.192879 seconds\n",
      "CART: 98.181818 (+/- 2.226809) performed in 0.192918 seconds\n",
      "LR: 94.199260 (+/- 3.553781) performed in 0.160898 seconds\n"
     ]
    },
    {
     "data": {
      "image/png": "[encoded data removed]",
      "text/plain": [
       "<Figure size 864x576 with 1 Axes>"
      ]
     },
     "metadata": {
      "needs_background": "light"
     },
     "output_type": "display_data"
    }
   ],
   "source": [
    "pipelines = []\n",
    "\n",
    "#print(df.shape)\n",
    "pipelines.append( ('NB',\n",
    "                   Pipeline([\n",
    "                              ('sc', StandardScaler()),\n",
    "                             ('NB', GaussianNB())]) ) )\n",
    "\n",
    "\n",
    "pipelines.append(('KNN',\n",
    "                  Pipeline([ \n",
    "                               \n",
    "                            ('KNN', KNeighborsClassifier()) ])))\n",
    "\n",
    "pipelines.append( ('CART',\n",
    "                   Pipeline([\n",
    "                              ('sc', StandardScaler()),\n",
    "                             ('CART', DecisionTreeClassifier(max_depth=3,min_samples_leaf=2,max_leaf_nodes=12, min_samples_split=22,random_state=10)) ]) ))\n",
    "\n",
    "pipelines.append( ('LR',\n",
    "                   Pipeline([\n",
    "                              ('sc', StandardScaler()),\n",
    "                             ('LR', LogisticRegression()) ]) ))\n",
    "\n",
    "\n",
    "\n",
    "results, names, times  = [], [] , []\n",
    "num_folds = 20\n",
    "scoring = 'recall'\n",
    "\n",
    "for name, model in pipelines:\n",
    "    start = time()\n",
    "    kfold = StratifiedKFold(n_splits=num_folds, random_state=101)\n",
    "    cv_results = cross_val_score(model, X_train, y_train, cv=kfold, scoring = scoring,\n",
    "                                n_jobs=-1) \n",
    "    t_elapsed = time() - start\n",
    "    results.append(cv_results)\n",
    "    names.append(name)\n",
    "    times.append(t_elapsed)\n",
    "    msg = \"%s: %f (+/- %f) performed in %f seconds\" % (name, 100*cv_results.mean(), \n",
    "                                                       100*cv_results.std(), t_elapsed)\n",
    "    print(msg)\n",
    "\n",
    "\n",
    "fig = plt.figure(figsize=(12,8))    \n",
    "fig.suptitle(\"Algorithms comparison\")\n",
    "ax = fig.add_subplot(1,1,1)\n",
    "plt.boxplot(results)\n",
    "ax.set_xticklabels(names)\n",
    "plt.show()"
   ]
  },
  {
   "cell_type": "markdown",
   "metadata": {
    "_cell_guid": "9eeb11ca-7bfb-9df4-85f1-002770f95811"
   },
   "source": [
    "\n",
    "**Observation:** The best performances are achieved by RF. However, RF also yields a wide distribution. It is worthy to continue our study by tuning RF. \n",
    "\n",
    "Logistic Regression performs badly. This might be due to the fact that the data is not normally distributed as these algorithms perform well when data that is normally distributed."
   ]
  },
  {
   "cell_type": "code",
   "execution_count": null,
   "metadata": {},
   "outputs": [],
   "source": []
  },
  {
   "cell_type": "code",
   "execution_count": 20,
   "metadata": {},
   "outputs": [],
   "source": [
    "from sklearn.linear_model import LogisticRegression\n",
    "from sklearn.metrics import confusion_matrix,precision_recall_curve,auc,roc_auc_score,roc_curve,recall_score,classification_report "
   ]
  },
  {
   "cell_type": "code",
   "execution_count": 21,
   "metadata": {},
   "outputs": [],
   "source": [
    "\n",
    "X = BC[['Adress','Age','FBS', 'Urea','ALB', 'TCa', 'GPT','ALP','CA15','CEA','WBC','RBC','PLT','ESR','LDH']].values\n",
    "y = BC['CLASS'].values\n"
   ]
  },
  {
   "cell_type": "code",
   "execution_count": 22,
   "metadata": {},
   "outputs": [],
   "source": [
    "X_train, X_test, y_train, y_test = train_test_split(X, y, stratify=y, test_size = 0.3, shuffle=True, random_state=42)\n"
   ]
  },
  {
   "cell_type": "code",
   "execution_count": 23,
   "metadata": {},
   "outputs": [],
   "source": [
    "## StandardScaler\n",
    "\n",
    "from sklearn.preprocessing import StandardScaler\n",
    "\n",
    "\n",
    "std = StandardScaler()\n",
    "X_train = std.fit_transform(X_train)\n",
    "X_test = std.fit_transform(X_test)\n"
   ]
  },
  {
   "cell_type": "code",
   "execution_count": 24,
   "metadata": {
    "_uuid": "30cfb613b26a6c4f06f1999d62f5426b8e7c3c52"
   },
   "outputs": [],
   "source": [
    "# DataFrame to store classifier performance\n",
    "performance = pd.DataFrame(columns=['Train_Recall','Test_Recall','Test_Specificity'])"
   ]
  },
  {
   "cell_type": "code",
   "execution_count": 25,
   "metadata": {
    "_uuid": "8e3fb54a245efed143595527a221bcfad92ba7c2",
    "scrolled": false
   },
   "outputs": [
    {
     "name": "stdout",
     "output_type": "stream",
     "text": [
      "\n",
      " ---------------------------------------- \n",
      " GaussianNB \n",
      " ----------------------------------------\n",
      "TRAIN GROUP\n",
      "\n",
      "Cross-validation recall scores: [0.97368421 0.92105263 0.92105263 0.92105263 0.97368421 0.97368421\n",
      " 0.94736842 0.94736842 0.94736842 1.         0.94736842 0.94736842\n",
      " 0.94736842 0.97368421 1.         0.94736842 0.94736842 0.89473684\n",
      " 0.94736842 1.        ]\n",
      "Mean recall score: 0.9539473684210525\n",
      "\n",
      "TEST GROUP\n",
      "\n",
      "Recall: 0.9415384615384615\n"
     ]
    },
    {
     "data": {
      "image/png": "[encoded data removed]",
      "text/plain": [
       "<Figure size 432x288 with 2 Axes>"
      ]
     },
     "metadata": {
      "needs_background": "light"
     },
     "output_type": "display_data"
    },
    {
     "name": "stdout",
     "output_type": "stream",
     "text": [
      "\n",
      " ---------------------------------------- \n",
      " LogisticRegression \n",
      " ----------------------------------------\n",
      "TRAIN GROUP\n",
      "\n",
      "Cross-validation recall scores: [0.92105263 0.92105263 0.92105263 0.92105263 0.97368421 0.97368421\n",
      " 0.94736842 0.94736842 0.94736842 1.         0.94736842 0.89473684\n",
      " 0.94736842 0.97368421 1.         0.94736842 0.94736842 0.89473684\n",
      " 0.94736842 0.97297297]\n",
      "Mean recall score: 0.9473328591749641\n",
      "\n",
      "TEST GROUP\n",
      "\n",
      "Recall: 0.9353846153846154\n"
     ]
    },
    {
     "data": {
      "image/png": "[encoded data removed]",
      "text/plain": [
       "<Figure size 432x288 with 2 Axes>"
      ]
     },
     "metadata": {
      "needs_background": "light"
     },
     "output_type": "display_data"
    },
    {
     "name": "stdout",
     "output_type": "stream",
     "text": [
      "\n",
      " ---------------------------------------- \n",
      " DecisionTreeClassifier \n",
      " ----------------------------------------\n",
      "TRAIN GROUP\n",
      "\n",
      "Cross-validation recall scores: [1.         0.94736842 1.         0.97368421 1.         0.97368421\n",
      " 0.97368421 1.         1.         1.         1.         0.94736842\n",
      " 0.97368421 1.         1.         1.         0.97368421 0.92105263\n",
      " 0.94736842 1.        ]\n",
      "Mean recall score: 0.9815789473684211\n",
      "\n",
      "TEST GROUP\n",
      "\n",
      "Recall: 0.9907692307692307\n"
     ]
    },
    {
     "data": {
      "image/png": "[encoded data removed]",
      "text/plain": [
       "<Figure size 432x288 with 2 Axes>"
      ]
     },
     "metadata": {
      "needs_background": "light"
     },
     "output_type": "display_data"
    },
    {
     "name": "stdout",
     "output_type": "stream",
     "text": [
      "\n",
      " ---------------------------------------- \n",
      " KNeighborsClassifier \n",
      " ----------------------------------------\n",
      "TRAIN GROUP\n",
      "\n",
      "Cross-validation recall scores: [0.97368421 0.92105263 0.92105263 0.94736842 1.         0.97368421\n",
      " 0.94736842 0.97368421 0.94736842 1.         0.97368421 0.94736842\n",
      " 0.97368421 0.97368421 1.         0.94736842 0.89473684 0.89473684\n",
      " 0.94736842 1.        ]\n",
      "Mean recall score: 0.9578947368421054\n",
      "\n",
      "TEST GROUP\n",
      "\n",
      "Recall: 0.963076923076923\n"
     ]
    },
    {
     "data": {
      "image/png": "[encoded data removed]",
      "text/plain": [
       "<Figure size 432x288 with 2 Axes>"
      ]
     },
     "metadata": {
      "needs_background": "light"
     },
     "output_type": "display_data"
    }
   ],
   "source": [
    "# Load simple classifiers\n",
    "classifiers = [GaussianNB(),LogisticRegression(),\n",
    "               DecisionTreeClassifier(max_depth=3,min_samples_leaf=2,max_leaf_nodes=12, min_samples_split=22,random_state=10),\n",
    "               KNeighborsClassifier()]\n",
    "\n",
    "# Get a classification report from each algorithm\n",
    "for clf in classifiers:    \n",
    "    \n",
    "    # Heading\n",
    "    print('\\n','-'*40,'\\n',clf.__class__.__name__,'\\n','-'*40)\n",
    "    \n",
    "    # Cross-validate on the train data\n",
    "    print(\"TRAIN GROUP\")\n",
    "    train_cv = cross_val_score(X=X_train, y=y_train, \n",
    "                               estimator=clf, scoring='recall',cv=20)\n",
    "    print(\"\\nCross-validation recall scores:\",train_cv)\n",
    "    print(\"Mean recall score:\",train_cv.mean())\n",
    "\n",
    "    # Now predict on the test group\n",
    "    print(\"\\nTEST GROUP\")\n",
    "    y_pred = clf.fit(X_train, y_train).predict(X_test)\n",
    "    print(\"\\nRecall:\",recall_score(y_test,y_pred))\n",
    "    \n",
    "    # Print confusion matrix\n",
    "    conf_matrix = confusion_matrix(y_test,y_pred)\n",
    "    sns.heatmap(conf_matrix, annot=True,fmt='d', cmap=plt.cm.copper)\n",
    "    plt.show()\n",
    "    \n",
    "    # Store results\n",
    "    performance.loc[clf.__class__.__name__+'_default',\n",
    "                    ['Train_Recall','Test_Recall','Test_Specificity']] = [\n",
    "        train_cv.mean(),\n",
    "        recall_score(y_test,y_pred),\n",
    "        conf_matrix[0,0]/conf_matrix[0,:].sum()\n",
    "    ]"
   ]
  },
  {
   "cell_type": "code",
   "execution_count": 26,
   "metadata": {
    "_uuid": "db754984247cdd5ab96ec3a111c02d15e3667028",
    "scrolled": true
   },
   "outputs": [
    {
     "data": {
      "text/html": [
       "<div>\n",
       "<style scoped>\n",
       "    .dataframe tbody tr th:only-of-type {\n",
       "        vertical-align: middle;\n",
       "    }\n",
       "\n",
       "    .dataframe tbody tr th {\n",
       "        vertical-align: top;\n",
       "    }\n",
       "\n",
       "    .dataframe thead th {\n",
       "        text-align: right;\n",
       "    }\n",
       "</style>\n",
       "<table border=\"1\" class=\"dataframe\">\n",
       "  <thead>\n",
       "    <tr style=\"text-align: right;\">\n",
       "      <th></th>\n",
       "      <th>Train_Recall</th>\n",
       "      <th>Test_Recall</th>\n",
       "      <th>Test_Specificity</th>\n",
       "    </tr>\n",
       "  </thead>\n",
       "  <tbody>\n",
       "    <tr>\n",
       "      <td>GaussianNB_default</td>\n",
       "      <td>0.953947</td>\n",
       "      <td>0.941538</td>\n",
       "      <td>0.970443</td>\n",
       "    </tr>\n",
       "    <tr>\n",
       "      <td>LogisticRegression_default</td>\n",
       "      <td>0.947333</td>\n",
       "      <td>0.935385</td>\n",
       "      <td>0.970443</td>\n",
       "    </tr>\n",
       "    <tr>\n",
       "      <td>DecisionTreeClassifier_default</td>\n",
       "      <td>0.981579</td>\n",
       "      <td>0.990769</td>\n",
       "      <td>0.958128</td>\n",
       "    </tr>\n",
       "    <tr>\n",
       "      <td>KNeighborsClassifier_default</td>\n",
       "      <td>0.957895</td>\n",
       "      <td>0.963077</td>\n",
       "      <td>0.96798</td>\n",
       "    </tr>\n",
       "  </tbody>\n",
       "</table>\n",
       "</div>"
      ],
      "text/plain": [
       "                               Train_Recall Test_Recall Test_Specificity\n",
       "GaussianNB_default                 0.953947    0.941538         0.970443\n",
       "LogisticRegression_default         0.947333    0.935385         0.970443\n",
       "DecisionTreeClassifier_default     0.981579    0.990769         0.958128\n",
       "KNeighborsClassifier_default       0.957895    0.963077          0.96798"
      ]
     },
     "execution_count": 26,
     "metadata": {},
     "output_type": "execute_result"
    }
   ],
   "source": [
    "# Scores obtained\n",
    "performance"
   ]
  },
  {
   "cell_type": "code",
   "execution_count": null,
   "metadata": {},
   "outputs": [],
   "source": []
  },
  {
   "cell_type": "code",
   "execution_count": 27,
   "metadata": {},
   "outputs": [],
   "source": [
    "from sklearn.metrics import roc_curve, precision_recall_curve, auc, make_scorer, recall_score, accuracy_score, precision_score, f1_score,confusion_matrix\n"
   ]
  },
  {
   "cell_type": "code",
   "execution_count": 28,
   "metadata": {
    "_uuid": "30cfb613b26a6c4f06f1999d62f5426b8e7c3c52"
   },
   "outputs": [],
   "source": [
    "# DataFrame to store classifier performance\n",
    "performance = pd.DataFrame(columns=['Train_accuracy','Test_accuracy','Test_Specificity'])"
   ]
  },
  {
   "cell_type": "code",
   "execution_count": 29,
   "metadata": {
    "_uuid": "8e3fb54a245efed143595527a221bcfad92ba7c2",
    "scrolled": false
   },
   "outputs": [
    {
     "name": "stdout",
     "output_type": "stream",
     "text": [
      "\n",
      " ---------------------------------------- \n",
      " GaussianNB \n",
      " ----------------------------------------\n",
      "TRAIN GROUP\n",
      "\n",
      "Cross-validation accuracy scores: [0.97674419 0.93023256 0.94186047 0.95348837 0.97674419 0.95294118\n",
      " 0.96470588 0.95294118 0.91764706 1.         0.95294118 0.94117647\n",
      " 0.92941176 0.98823529 0.95294118 0.96470588 0.96470588 0.91764706\n",
      " 0.96470588 0.96428571]\n",
      "Mean recall score: 0.9554030682040258\n",
      "\n",
      "TEST GROUP\n",
      "\n",
      "accuracy: 0.957592339261286\n"
     ]
    },
    {
     "data": {
      "image/png": "[encoded data removed]",
      "text/plain": [
       "<Figure size 432x288 with 2 Axes>"
      ]
     },
     "metadata": {
      "needs_background": "light"
     },
     "output_type": "display_data"
    },
    {
     "name": "stdout",
     "output_type": "stream",
     "text": [
      "\n",
      " ---------------------------------------- \n",
      " LogisticRegression \n",
      " ----------------------------------------\n",
      "TRAIN GROUP\n",
      "\n",
      "Cross-validation accuracy scores: [0.95348837 0.93023256 0.94186047 0.95348837 0.97674419 0.95294118\n",
      " 0.96470588 0.95294118 0.91764706 1.         0.95294118 0.91764706\n",
      " 0.92941176 0.98823529 0.97647059 0.96470588 0.96470588 0.91764706\n",
      " 0.96470588 0.95238095]\n",
      "Mean recall score: 0.9536450394111133\n",
      "\n",
      "TEST GROUP\n",
      "\n",
      "accuracy: 0.9548563611491108\n"
     ]
    },
    {
     "data": {
      "image/png": "[encoded data removed]",
      "text/plain": [
       "<Figure size 432x288 with 2 Axes>"
      ]
     },
     "metadata": {
      "needs_background": "light"
     },
     "output_type": "display_data"
    },
    {
     "name": "stdout",
     "output_type": "stream",
     "text": [
      "\n",
      " ---------------------------------------- \n",
      " DecisionTreeClassifier \n",
      " ----------------------------------------\n",
      "TRAIN GROUP\n",
      "\n",
      "Cross-validation accuracy scores: [0.98837209 0.93023256 0.96511628 0.97674419 0.98837209 0.95294118\n",
      " 0.97647059 0.95294118 0.95294118 1.         0.98823529 0.95294118\n",
      " 0.92941176 0.96470588 0.98823529 1.         0.96470588 0.95294118\n",
      " 0.96470588 0.95238095]\n",
      "Mean recall score: 0.9671197316135757\n",
      "\n",
      "TEST GROUP\n",
      "\n",
      "accuracy: 0.9726402188782489\n"
     ]
    },
    {
     "data": {
      "image/png": "[encoded data removed]",
      "text/plain": [
       "<Figure size 432x288 with 2 Axes>"
      ]
     },
     "metadata": {
      "needs_background": "light"
     },
     "output_type": "display_data"
    },
    {
     "name": "stdout",
     "output_type": "stream",
     "text": [
      "\n",
      " ---------------------------------------- \n",
      " KNeighborsClassifier \n",
      " ----------------------------------------\n",
      "TRAIN GROUP\n",
      "\n",
      "Cross-validation accuracy scores: [0.97674419 0.93023256 0.94186047 0.97674419 0.98837209 0.95294118\n",
      " 0.96470588 0.96470588 0.91764706 1.         0.96470588 0.95294118\n",
      " 0.94117647 0.98823529 0.97647059 0.96470588 0.94117647 0.91764706\n",
      " 0.96470588 0.96428571]\n",
      "Mean recall score: 0.9595001954270079\n",
      "\n",
      "TEST GROUP\n",
      "\n",
      "accuracy: 0.9658002735978112\n"
     ]
    },
    {
     "data": {
      "image/png": "[encoded data removed]",
      "text/plain": [
       "<Figure size 432x288 with 2 Axes>"
      ]
     },
     "metadata": {
      "needs_background": "light"
     },
     "output_type": "display_data"
    }
   ],
   "source": [
    "# Load simple classifiers\n",
    "classifiers = [GaussianNB(),LogisticRegression(),\n",
    "               DecisionTreeClassifier(max_depth=3,min_samples_leaf=2,max_leaf_nodes=12, min_samples_split=22,random_state=10),\n",
    "               KNeighborsClassifier()]\n",
    "\n",
    "# Get a classification report from each algorithm\n",
    "for clf in classifiers:    \n",
    "    \n",
    "    # Heading\n",
    "    print('\\n','-'*40,'\\n',clf.__class__.__name__,'\\n','-'*40)\n",
    "    \n",
    "    # Cross-validate on the train data\n",
    "    print(\"TRAIN GROUP\")\n",
    "    train_cv = cross_val_score(X=X_train, y=y_train, \n",
    "                               estimator=clf, scoring='accuracy',cv=20)\n",
    "    print(\"\\nCross-validation accuracy scores:\",train_cv)\n",
    "    print(\"Mean recall score:\",train_cv.mean())\n",
    "\n",
    "    # Now predict on the test group\n",
    "    print(\"\\nTEST GROUP\")\n",
    "    y_pred = clf.fit(X_train, y_train).predict(X_test)\n",
    "    print(\"\\naccuracy:\",accuracy_score(y_test,y_pred))\n",
    "    \n",
    "    # Print confusion matrix\n",
    "    conf_matrix = confusion_matrix(y_test,y_pred)\n",
    "    sns.heatmap(conf_matrix, annot=True,fmt='d', cmap=plt.cm.copper)\n",
    "    plt.show()\n",
    "    \n",
    "    # Store results\n",
    "    performance.loc[clf.__class__.__name__+'_default',\n",
    "                    ['Train_accuracy','Test_accuracy','Test_Specificity']] = [\n",
    "        train_cv.mean(),\n",
    "        recall_score(y_test,y_pred),\n",
    "        conf_matrix[0,0]/conf_matrix[0,:].sum()\n",
    "    ]"
   ]
  },
  {
   "cell_type": "code",
   "execution_count": 30,
   "metadata": {
    "_uuid": "db754984247cdd5ab96ec3a111c02d15e3667028",
    "scrolled": true
   },
   "outputs": [
    {
     "data": {
      "text/html": [
       "<div>\n",
       "<style scoped>\n",
       "    .dataframe tbody tr th:only-of-type {\n",
       "        vertical-align: middle;\n",
       "    }\n",
       "\n",
       "    .dataframe tbody tr th {\n",
       "        vertical-align: top;\n",
       "    }\n",
       "\n",
       "    .dataframe thead th {\n",
       "        text-align: right;\n",
       "    }\n",
       "</style>\n",
       "<table border=\"1\" class=\"dataframe\">\n",
       "  <thead>\n",
       "    <tr style=\"text-align: right;\">\n",
       "      <th></th>\n",
       "      <th>Train_accuracy</th>\n",
       "      <th>Test_accuracy</th>\n",
       "      <th>Test_Specificity</th>\n",
       "    </tr>\n",
       "  </thead>\n",
       "  <tbody>\n",
       "    <tr>\n",
       "      <td>GaussianNB_default</td>\n",
       "      <td>0.955403</td>\n",
       "      <td>0.941538</td>\n",
       "      <td>0.970443</td>\n",
       "    </tr>\n",
       "    <tr>\n",
       "      <td>LogisticRegression_default</td>\n",
       "      <td>0.953645</td>\n",
       "      <td>0.935385</td>\n",
       "      <td>0.970443</td>\n",
       "    </tr>\n",
       "    <tr>\n",
       "      <td>DecisionTreeClassifier_default</td>\n",
       "      <td>0.96712</td>\n",
       "      <td>0.990769</td>\n",
       "      <td>0.958128</td>\n",
       "    </tr>\n",
       "    <tr>\n",
       "      <td>KNeighborsClassifier_default</td>\n",
       "      <td>0.9595</td>\n",
       "      <td>0.963077</td>\n",
       "      <td>0.96798</td>\n",
       "    </tr>\n",
       "  </tbody>\n",
       "</table>\n",
       "</div>"
      ],
      "text/plain": [
       "                               Train_accuracy Test_accuracy Test_Specificity\n",
       "GaussianNB_default                   0.955403      0.941538         0.970443\n",
       "LogisticRegression_default           0.953645      0.935385         0.970443\n",
       "DecisionTreeClassifier_default        0.96712      0.990769         0.958128\n",
       "KNeighborsClassifier_default           0.9595      0.963077          0.96798"
      ]
     },
     "execution_count": 30,
     "metadata": {},
     "output_type": "execute_result"
    }
   ],
   "source": [
    "# Scores obtained\n",
    "performance"
   ]
  },
  {
   "cell_type": "code",
   "execution_count": null,
   "metadata": {},
   "outputs": [],
   "source": []
  },
  {
   "cell_type": "code",
   "execution_count": 31,
   "metadata": {},
   "outputs": [],
   "source": [
    "from sklearn.metrics import confusion_matrix,recall_score,precision_score,accuracy_score,precision_recall_curve,roc_curve,roc_auc_score,make_scorer\n"
   ]
  },
  {
   "cell_type": "code",
   "execution_count": 32,
   "metadata": {},
   "outputs": [
    {
     "name": "stdout",
     "output_type": "stream",
     "text": [
      "TRAIN GROUP\n",
      "\n",
      "Cross-validation recall scores: [1.         0.94736842 1.         0.97368421 1.         0.97368421\n",
      " 0.97368421 1.         1.         1.         1.         0.94736842\n",
      " 0.97368421 1.         1.         1.         0.97368421 0.92105263\n",
      " 0.94736842 1.        ]\n",
      "Mean recall score: 0.9815789473684211\n",
      "\n",
      "TEST GROUP\n",
      "\n",
      "Recall: 0.9907692307692307\n",
      "\n",
      "Classification report:\n",
      "\n",
      "              precision    recall  f1-score   support\n",
      "\n",
      "           0       0.99      0.96      0.97       406\n",
      "           1       0.95      0.99      0.97       325\n",
      "\n",
      "    accuracy                           0.97       731\n",
      "   macro avg       0.97      0.97      0.97       731\n",
      "weighted avg       0.97      0.97      0.97       731\n",
      "\n"
     ]
    },
    {
     "data": {
      "image/png": "[encoded data removed]",
      "text/plain": [
       "<Figure size 432x288 with 2 Axes>"
      ]
     },
     "metadata": {
      "needs_background": "light"
     },
     "output_type": "display_data"
    }
   ],
   "source": [
    "# Invoke classifier\n",
    "DT_model =DecisionTreeClassifier(max_depth=3,min_samples_leaf=2,max_leaf_nodes=12, min_samples_split=22,random_state=10).fit(X_train,y_train)\n",
    "\n",
    "# Make a scoring callable from recall_score\n",
    "#accuracy = make_scorer(accuracy_score)\n",
    "recall = make_scorer(recall_score)\n",
    "\n",
    "# Cross-validate on the train data\n",
    "train_cv = cross_val_score(X=X_train,y=y_train,estimator=DT_model,scoring=recall,cv=20)\n",
    "print(\"TRAIN GROUP\")\n",
    "print(\"\\nCross-validation recall scores:\",train_cv)\n",
    "print(\"Mean recall score:\",train_cv.mean())\n",
    "\n",
    "# Now predict on the test group\n",
    "print(\"\\nTEST GROUP\")\n",
    "y_pred = DT_model.fit(X_train, y_train).predict(X_test)\n",
    "print(\"\\nRecall:\",recall_score(y_test,y_pred))\n",
    "\n",
    "# Classification report\n",
    "print('\\nClassification report:\\n')\n",
    "print(classification_report(y_test, y_pred))\n",
    "\n",
    "# Confusion matrix\n",
    "conf_matrix = confusion_matrix(y_test,y_pred)\n",
    "sns.heatmap(conf_matrix, annot=True,fmt='d', cmap=plt.cm.copper)\n",
    "plt.show()"
   ]
  },
  {
   "cell_type": "code",
   "execution_count": null,
   "metadata": {},
   "outputs": [],
   "source": []
  },
  {
   "cell_type": "code",
   "execution_count": null,
   "metadata": {},
   "outputs": [],
   "source": []
  },
  {
   "cell_type": "code",
   "execution_count": 33,
   "metadata": {},
   "outputs": [
    {
     "data": {
      "text/plain": [
       "0.9726402188782489"
      ]
     },
     "execution_count": 33,
     "metadata": {},
     "output_type": "execute_result"
    }
   ],
   "source": [
    "# run DecisionTree  with 10 fold cross validation\n",
    "\n",
    "DT_model =DecisionTreeClassifier(max_depth=3,min_samples_leaf=2,max_leaf_nodes=12, min_samples_split=22,random_state=10).fit(X_train,y_train)\n",
    "\n",
    "DT_model.score(X_test,y_test)"
   ]
  },
  {
   "cell_type": "code",
   "execution_count": 34,
   "metadata": {},
   "outputs": [
    {
     "data": {
      "text/html": [
       "<div>\n",
       "<style scoped>\n",
       "    .dataframe tbody tr th:only-of-type {\n",
       "        vertical-align: middle;\n",
       "    }\n",
       "\n",
       "    .dataframe tbody tr th {\n",
       "        vertical-align: top;\n",
       "    }\n",
       "\n",
       "    .dataframe thead th {\n",
       "        text-align: right;\n",
       "    }\n",
       "</style>\n",
       "<table border=\"1\" class=\"dataframe\">\n",
       "  <thead>\n",
       "    <tr style=\"text-align: right;\">\n",
       "      <th></th>\n",
       "      <th>0</th>\n",
       "      <th>1</th>\n",
       "    </tr>\n",
       "  </thead>\n",
       "  <tbody>\n",
       "    <tr>\n",
       "      <td>0</td>\n",
       "      <td>389</td>\n",
       "      <td>17</td>\n",
       "    </tr>\n",
       "    <tr>\n",
       "      <td>1</td>\n",
       "      <td>3</td>\n",
       "      <td>322</td>\n",
       "    </tr>\n",
       "  </tbody>\n",
       "</table>\n",
       "</div>"
      ],
      "text/plain": [
       "     0    1\n",
       "0  389   17\n",
       "1    3  322"
      ]
     },
     "execution_count": 34,
     "metadata": {},
     "output_type": "execute_result"
    }
   ],
   "source": [
    "preds = DT_model.predict(X_test)\n",
    "\n",
    "pd.DataFrame(confusion_matrix(y_test,preds))"
   ]
  },
  {
   "cell_type": "markdown",
   "metadata": {},
   "source": [
    "On the rows, we have predicted values, and on the columns we have the actual values. 1 denotes heart disease present.\n",
    "\n",
    "* On the diagonal we have cases we have predicted accurately (positions 0,0 and 1,1). These are what are summed and divided by all cases to compute overall accuracy.\n",
    "* On the off-diagonal (right to left) we have cases we have predicted inaccurately. \n",
    "\n",
    "We also have cases where we have:\n",
    "* predicted 1 but they were actually 0; **false positives** (position 1,0)\n",
    "* predicted 0 but they were actually 1; **false negatives** (position 0,1)\n",
    "\n",
    "To better assess performance, we can use these values from the confusion matrix to compute **precision** and **recall**. \n",
    "\n",
    "* Precision: of all cases we predict as true, how many did we get right (TP/TP + FP). \n",
    "* Recall: of all the actually true cases, how many did we get right (TP/TP + FN).\n",
    "\n",
    "We can calculate precision and recall for our model, and compare this to our overall acuracy score already computed."
   ]
  },
  {
   "cell_type": "code",
   "execution_count": 35,
   "metadata": {},
   "outputs": [
    {
     "name": "stdout",
     "output_type": "stream",
     "text": [
      "Recall score\n",
      "\n",
      "0.9907692307692307\n",
      "\n",
      "Precision score: \n",
      "\n",
      "0.9498525073746312\n",
      "\n",
      "Accuracy score \n",
      "\n",
      "0.9726402188782489\n"
     ]
    }
   ],
   "source": [
    "print('Recall score\\n')\n",
    "print(recall_score(y_test,preds))\n",
    "print('\\nPrecision score: \\n')\n",
    "print(precision_score(y_test,preds))\n",
    "print('\\nAccuracy score \\n')\n",
    "print(accuracy_score(y_test,preds))\n"
   ]
  },
  {
   "cell_type": "code",
   "execution_count": 36,
   "metadata": {},
   "outputs": [
    {
     "name": "stdout",
     "output_type": "stream",
     "text": [
      "Recall with threshold = 0.1 : 0.9907692307692307\n",
      "Recall with threshold = 0.2 : 0.9907692307692307\n",
      "Recall with threshold = 0.3 : 0.9907692307692307\n",
      "Recall with threshold = 0.4 : 0.9907692307692307\n",
      "Recall with threshold = 0.5 : 0.9907692307692307\n",
      "Recall with threshold = 0.6 : 0.9907692307692307\n",
      "Recall with threshold = 0.7 : 0.9692307692307692\n",
      "Recall with threshold = 0.8 : 0.9692307692307692\n",
      "Recall with threshold = 0.9 : 0.7876923076923077\n"
     ]
    }
   ],
   "source": [
    "from sklearn.metrics import confusion_matrix\n",
    "\n",
    "\n",
    "thresholds = [0.1,0.2,0.3,0.4,0.5,0.6,0.7,0.8,0.9]\n",
    "\n",
    "for i in thresholds:\n",
    "    predictions = DT_model.predict_proba(X_test)\n",
    "    predictions = (predictions[::,1])> i\n",
    "    cm = confusion_matrix(y_test, predictions)\n",
    "    tp = cm[1,1]\n",
    "    fn = cm[1,0]\n",
    "    print('Recall with threshold = %s :'%i, (tp/(tp+fn)))"
   ]
  },
  {
   "cell_type": "code",
   "execution_count": 37,
   "metadata": {},
   "outputs": [],
   "source": [
    "#هذا التحسين المطلوب"
   ]
  },
  {
   "cell_type": "code",
   "execution_count": 38,
   "metadata": {},
   "outputs": [
    {
     "name": "stdout",
     "output_type": "stream",
     "text": [
      "              precision    recall  f1-score   support\n",
      "\n",
      "           0       0.99      0.96      0.97       406\n",
      "           1       0.95      0.99      0.97       325\n",
      "\n",
      "    accuracy                           0.97       731\n",
      "   macro avg       0.97      0.97      0.97       731\n",
      "weighted avg       0.97      0.97      0.97       731\n",
      "\n"
     ]
    },
    {
     "data": {
      "image/png": "[encoded data removed]",
      "text/plain": [
       "<Figure size 432x288 with 2 Axes>"
      ]
     },
     "metadata": {
      "needs_background": "light"
     },
     "output_type": "display_data"
    }
   ],
   "source": [
    "#Predicting with threshold = 0.6\n",
    "from sklearn.metrics import classification_report, accuracy_score, make_scorer\n",
    "\n",
    "y_score = DT_model.predict_proba(X_test)[:,1] > 0.6\n",
    "\n",
    "print(classification_report(y_test, y_score))\n",
    "\n",
    "conf_m = confusion_matrix(y_test, y_score)\n",
    "\n",
    "sns.heatmap(conf_m, annot=True, fmt='g', annot_kws={\"fontsize\":18}, cmap='Purples')\n",
    "plt.show()"
   ]
  },
  {
   "cell_type": "code",
   "execution_count": null,
   "metadata": {},
   "outputs": [],
   "source": []
  },
  {
   "cell_type": "markdown",
   "metadata": {},
   "source": [
    "## 4. Precision-Recall trade off\n",
    "\n",
    "There is a trade off taking place here; would we rather have high precision, where our predictions of positive cases are very accurate but perhaps a few actual true cases are missed, or would we rather have high recall, in which very few actual true cases are missed?\n",
    "\n",
    "This is called the **Precision - Recall trade off**, and the answer depends on our data set/situation. If we think about the dataset we are dealing with, missing a case of heart disease and leaving that patient untreated is probably worse than calling a few extra people back who don't have heart disease but who the model would flag up; we are willing to accept more false positives than false negatives. Here therefore, we would rather have high recall than high precision. \n",
    "\n",
    "\n",
    "But how do we change the number of false positives/false negatives our model produces? Ultimately, our logistic regression estimated for each patient, how likely it was that there was heart disease present. The default decision boundary is 0.5; if the model considers the probabilty of heart disease being present to be > 50%, it will classify as true, if < 50% it will classify as false. By changing this decision boundary, we will change the number of false positives and false negatives, and hence the values of precision and recall.\n",
    "\n",
    "## 5. Plotting the Precision-Recall Curve\n",
    "\n",
    "We can actually plot the values of precision and recall our model will produce for every value of the decision boundary. I do this two ways below; first of all using the sklearn 'precision_recall_curve' which doesn't seem to give much granularity, followed by a manual more granular plot.\n"
   ]
  },
  {
   "cell_type": "code",
   "execution_count": 39,
   "metadata": {},
   "outputs": [
    {
     "data": {
      "image/png": "[encoded data removed]",
      "text/plain": [
       "<Figure size 432x288 with 1 Axes>"
      ]
     },
     "metadata": {
      "needs_background": "light"
     },
     "output_type": "display_data"
    }
   ],
   "source": [
    "precision,recall,thresholds = precision_recall_curve(y_test,preds)\n",
    "\n",
    "plt.figure()\n",
    "plt.plot(recall,precision)\n",
    "plt.title('Precision-Recall Curve \\nPrecision and Recall at each value of decision boundary')\n",
    "plt.xlabel('Recall')\n",
    "_ = plt.ylabel('precision')"
   ]
  },
  {
   "cell_type": "code",
   "execution_count": null,
   "metadata": {},
   "outputs": [],
   "source": []
  },
  {
   "cell_type": "code",
   "execution_count": 40,
   "metadata": {},
   "outputs": [],
   "source": [
    "yprobs = DT_model.predict_proba(X_test)\n",
    "yprobs = pd.DataFrame(yprobs)\n",
    "precision = []\n",
    "recall = []\n",
    "accuracy = []\n",
    "\n",
    "# calculate precision and accuracy at each value of threshold - only to 0.99 because no true values are predicted at 100% confidence!\n",
    "for t in np.arange(0,0.99,0.01):\n",
    "    tmp = yprobs\n",
    "    tmp['CLASS'] = np.where(yprobs.iloc[:,1] >= t,1,0)\n",
    "    \n",
    "    precision.append(precision_score(y_test,tmp['CLASS']))\n",
    "    recall.append(recall_score(y_test,tmp['CLASS']))\n",
    "    accuracy.append(accuracy_score(y_test,tmp['CLASS']))\n"
   ]
  },
  {
   "cell_type": "code",
   "execution_count": 41,
   "metadata": {},
   "outputs": [
    {
     "data": {
      "image/png": "[encoded data removed]",
      "text/plain": [
       "<Figure size 432x288 with 1 Axes>"
      ]
     },
     "metadata": {
      "needs_background": "light"
     },
     "output_type": "display_data"
    }
   ],
   "source": [
    "plt.figure()\n",
    "plt.plot(precision,recall)\n",
    "plt.title('Precision-Recall Curve \\nPrecision and Recall at each value of decision boundary')\n",
    "plt.xlabel('Precision')\n",
    "_ = plt.ylabel('Recall')"
   ]
  },
  {
   "cell_type": "markdown",
   "metadata": {},
   "source": [
    "We can see in the chart above, that where recall is 1, we have to accept lower levels of precision; in order to pick up more and more cases of heart disease, we have to accept lower accuracy in the ones we predict. However, at higher rates of precision, recall falls; if we want to only predict cases of heart disease where we are sure we are right, we are going to miss some more borderline cases. \n",
    "\n",
    "We could also plot for each level of the decision boundary, what would be our precision, recall AND overall accuracy."
   ]
  },
  {
   "cell_type": "code",
   "execution_count": 42,
   "metadata": {},
   "outputs": [
    {
     "data": {
      "image/png": "[encoded data removed]",
      "text/plain": [
       "<Figure size 432x288 with 1 Axes>"
      ]
     },
     "metadata": {
      "needs_background": "light"
     },
     "output_type": "display_data"
    }
   ],
   "source": [
    "plt.figure()\n",
    "plt.plot(np.arange(0,0.99,0.01),recall,label = 'Recall')\n",
    "plt.plot(np.arange(0,0.99,0.01),precision,label = 'Precision')\n",
    "plt.plot(np.arange(0,0.99,0.01),accuracy,label = 'Accuracy')\n",
    "plt.title('Precision, Recall and Accuracy \\n(For each value of decision boundary')\n",
    "plt.xlabel('Decision Boundary')\n",
    "plt.ylabel('Score')\n",
    "_= plt.legend()"
   ]
  },
  {
   "cell_type": "markdown",
   "metadata": {},
   "source": [
    "In the chart above, we can see precision and recall each plotted as a function of the decision boundary value. We can see clearly now, that the higher (more strict) the decision boundary for classifying heart disease, the higher our precision score, whilst lower (less strict) decision boundary values will result in a higher recall score. \n",
    "\n",
    "We can now also add in a line for total accuracy, which we can see rises up until about a decision boundary value of 0.6, and then begins to fall.\n",
    "\n",
    "## 6. ROC curves and AUC (area under curve)\n",
    "\n",
    "Precision-Recall curves are useful, but not the only way we can assess our model's performance. We can also plot what is known as an ROC curve, which essentially plots:\n",
    "* **false positive rate** (how many patients falsely predicted as positive out of all actually negative cases: FP/TN + FP) \n",
    "\n",
    "against the\n",
    "\n",
    "* **true positive rate** (same as recall - out of all actually true cases how many did we accurately predict: TP/TP + FN)\n",
    "\n",
    "Like with the precision recall trade off, we can calculate our false positive and true positive rate for every value of the decision boundary and plot this as a curve. To illustrate this more, it is easiest to draw the curve.\n",
    "\n",
    "## 7. Plotting the ROC curve\n",
    "\n",
    "Again, we can use a built in method, which I do first, or a more granular manual method."
   ]
  },
  {
   "cell_type": "code",
   "execution_count": 43,
   "metadata": {},
   "outputs": [
    {
     "data": {
      "text/plain": [
       "0.9744486547934823"
      ]
     },
     "execution_count": 43,
     "metadata": {},
     "output_type": "execute_result"
    },
    {
     "data": {
      "image/png": "[encoded data removed]",
      "text/plain": [
       "<Figure size 432x288 with 1 Axes>"
      ]
     },
     "metadata": {
      "needs_background": "light"
     },
     "output_type": "display_data"
    }
   ],
   "source": [
    "fpr,tpr,_ = roc_curve(y_test,preds,drop_intermediate = True)\n",
    "\n",
    "plt.figure()\n",
    "plt.plot(fpr,tpr)\n",
    "roc_auc_score(y_test,y_pred)\n"
   ]
  },
  {
   "cell_type": "code",
   "execution_count": 44,
   "metadata": {},
   "outputs": [],
   "source": [
    "fpr = []\n",
    "tpr = recall\n",
    "\n",
    "for t in np.arange(0,0.99,0.01):\n",
    "    yprobs['CLASS'] = np.where(yprobs.iloc[:,1] >=t,1,0)\n",
    "    cm = confusion_matrix(yprobs['CLASS'],y_test)\n",
    "    tp = cm[1,1]\n",
    "    fp = cm[1,0]\n",
    "    tn = cm[0,0]\n",
    "    fn = cm[0,1]\n",
    "    \n",
    "    fpr.append(fp/(tn+fp))"
   ]
  },
  {
   "cell_type": "code",
   "execution_count": 45,
   "metadata": {},
   "outputs": [
    {
     "data": {
      "image/png": "[encoded data removed]",
      "text/plain": [
       "<Figure size 432x288 with 1 Axes>"
      ]
     },
     "metadata": {
      "needs_background": "light"
     },
     "output_type": "display_data"
    }
   ],
   "source": [
    "plt.figure()\n",
    "\n",
    "plt.plot(fpr,tpr)\n",
    "plt.xlabel('False Positive Rate')\n",
    "plt.ylabel('True Positive Rate')\n",
    "_ = plt.title('ROC curve')\n"
   ]
  },
  {
   "cell_type": "markdown",
   "metadata": {},
   "source": [
    "The ideal here, is to have the ROC curve as far into the top left as possible; we want to have a high true positive rate with as low a false positive rate as possible. We can measure how good our model is by calculating this area under the curve. This is helpful when we compare models."
   ]
  },
  {
   "cell_type": "code",
   "execution_count": 46,
   "metadata": {},
   "outputs": [
    {
     "name": "stdout",
     "output_type": "stream",
     "text": [
      "AUC (area under curve) Score: 0.9744486547934823\n"
     ]
    }
   ],
   "source": [
    "print('AUC (area under curve) Score: {}'.format(roc_auc_score(y_test,y_pred)))"
   ]
  },
  {
   "cell_type": "code",
   "execution_count": null,
   "metadata": {},
   "outputs": [],
   "source": []
  },
  {
   "cell_type": "code",
   "execution_count": null,
   "metadata": {},
   "outputs": [],
   "source": []
  },
  {
   "cell_type": "markdown",
   "metadata": {
    "_cell_guid": "7be8f814-f686-81e0-81c3-3321cb6827cc"
   },
   "source": [
    "### Tuning DT_KFold\n",
    "\n",
    "For random forest, we can tune the number of grown trees (n_estimators), the trees' depth (max_depth), the criterion of splitting (gini or entropy) and so on.... Let's start tuning these."
   ]
  },
  {
   "cell_type": "code",
   "execution_count": 47,
   "metadata": {},
   "outputs": [],
   "source": [
    "from sklearn.model_selection import RepeatedStratifiedKFold\n"
   ]
  },
  {
   "cell_type": "code",
   "execution_count": 48,
   "metadata": {
    "_cell_guid": "aa261f12-a4a0-df09-1bd2-c3a2151ea6e7"
   },
   "outputs": [
    {
     "name": "stdout",
     "output_type": "stream",
     "text": [
      "Fitting 20 folds for each of 1566 candidates, totalling 31320 fits\n"
     ]
    },
    {
     "name": "stderr",
     "output_type": "stream",
     "text": [
      "[Parallel(n_jobs=-1)]: Using backend LokyBackend with 4 concurrent workers.\n",
      "[Parallel(n_jobs=-1)]: Done 1812 tasks      | elapsed:    3.3s\n",
      "[Parallel(n_jobs=-1)]: Done 11112 tasks      | elapsed:   29.4s\n",
      "[Parallel(n_jobs=-1)]: Done 22854 tasks      | elapsed:  1.2min\n",
      "[Parallel(n_jobs=-1)]: Done 28104 tasks      | elapsed:  1.5min\n",
      "[Parallel(n_jobs=-1)]: Done 31320 out of 31320 | elapsed:  1.7min finished\n"
     ]
    },
    {
     "name": "stdout",
     "output_type": "stream",
     "text": [
      "{'max_depth': 7, 'max_leaf_nodes': 12, 'min_samples_leaf': 2, 'min_samples_split': 2, 'random_state': 10}\n",
      "0.9700704225352113\n"
     ]
    }
   ],
   "source": [
    "# Create a pipeline with a Random forest classifier\n",
    "from sklearn.tree import DecisionTreeClassifier\n",
    "from sklearn.model_selection import cross_val_score\n",
    "from sklearn.model_selection import GridSearchCV\n",
    "\n",
    "model = DecisionTreeClassifier()\n",
    "\n",
    "#  GridSearchCV & KFold طريقة 2\n",
    "\n",
    "\n",
    "kf =KFold(n_splits=20, shuffle=True, random_state=0)\n",
    "\n",
    "gs = GridSearchCV(model,\n",
    "                  param_grid = {'max_depth': range(1, 30),\n",
    "                                'min_samples_split': range(2, 30, 10),\n",
    "                               'max_leaf_nodes':range(2, 30, 10),\n",
    "                                'min_samples_leaf':range(2, 30, 10),\n",
    "                               'random_state':range(10, 30, 10)},\n",
    "                  cv=kf,\n",
    "                  n_jobs=-1,\n",
    "                  verbose = 1,\n",
    "                  scoring='accuracy')\n",
    "\n",
    "gs.fit(X_train, y_train)\n",
    "\n",
    "print(gs.best_params_)\n",
    "\n",
    "print(gs.best_score_)\n",
    "\n"
   ]
  },
  {
   "cell_type": "markdown",
   "metadata": {
    "_cell_guid": "066fdf65-461d-b87f-d6b9-78b96bfa3fd6"
   },
   "source": [
    "## 6) Diagnose the performance of the best algorithms"
   ]
  },
  {
   "cell_type": "markdown",
   "metadata": {
    "_cell_guid": "7bfa1ad3-fbcd-2b81-1150-2eea3b218672"
   },
   "source": [
    "### Diagnose overfitting by plotting the learning and validation curves"
   ]
  },
  {
   "cell_type": "code",
   "execution_count": 49,
   "metadata": {
    "_cell_guid": "5eb36f01-70b6-be52-362f-1d2d635ec45e"
   },
   "outputs": [],
   "source": [
    "# Let's define some utility functions to plot the learning & validation curves\n",
    "\n",
    "def plot_learning_curve(train_sizes, train_scores, test_scores, title, alpha=0.1):\n",
    "    train_mean = np.mean(train_scores, axis=1)\n",
    "    train_std = np.std(train_scores, axis=1)\n",
    "    test_mean = np.mean(test_scores, axis=1)\n",
    "    test_std = np.std(test_scores, axis=1)\n",
    "    plt.plot(train_sizes, train_mean, label='train score', color='blue', marker='o')\n",
    "    plt.fill_between(train_sizes,train_mean + train_std,\n",
    "                    train_mean - train_std, color='blue', alpha=alpha)\n",
    "    plt.plot(train_sizes, test_mean, label='test score', color='red',marker='o')\n",
    "    plt.fill_between(train_sizes,test_mean + test_std, test_mean - test_std , color='red', alpha=alpha)\n",
    "    plt.title(title)\n",
    "    plt.xlabel('Number of training points')\n",
    "    plt.ylabel('Accuracy')\n",
    "    plt.grid(ls='--')\n",
    "    plt.legend(loc='best')\n",
    "    plt.show()    \n",
    "    \n",
    "def plot_validation_curve(param_range, train_scores, test_scores, title, alpha=0.1):\n",
    "    train_mean = np.mean(train_scores, axis=1)\n",
    "    train_std = np.std(train_scores, axis=1)\n",
    "    test_mean = np.mean(test_scores, axis=1)\n",
    "    test_std = np.std(test_scores, axis=1)\n",
    "    plt.plot(param_range, train_mean, label='train score', color='blue', marker='o')\n",
    "    plt.fill_between(param_range,train_mean + train_std,\n",
    "                    train_mean - train_std, color='blue', alpha=alpha)\n",
    "    plt.plot(param_range, test_mean, label='test score', color='red', marker='o')\n",
    "    plt.fill_between(param_range,test_mean + test_std, test_mean - test_std , color='red', alpha=alpha)\n",
    "    plt.title(title)\n",
    "    plt.grid(ls='--')\n",
    "    plt.xlabel('Parameter value')\n",
    "    plt.ylabel('Accuracy')\n",
    "    plt.legend(loc='best')\n",
    "    plt.show()    "
   ]
  },
  {
   "cell_type": "code",
   "execution_count": 50,
   "metadata": {
    "_cell_guid": "f03b5dc9-99c1-4361-bf7a-0f516d3270f5"
   },
   "outputs": [
    {
     "data": {
      "image/png": "[encoded data removed]",
      "text/plain": [
       "<Figure size 648x432 with 1 Axes>"
      ]
     },
     "metadata": {
      "needs_background": "light"
     },
     "output_type": "display_data"
    }
   ],
   "source": [
    "plt.figure(figsize=(9,6))\n",
    "\n",
    "train_sizes, train_scores, test_scores = learning_curve(\n",
    "              estimator= gs.best_estimator_ , X= X_train, y = y_train, \n",
    "                train_sizes=np.arange(0.1,1.1,0.1), cv= 20,  scoring='accuracy', n_jobs= - 1)\n",
    "\n",
    "plot_learning_curve(train_sizes, train_scores, test_scores, title='Learning curve for DT')"
   ]
  },
  {
   "cell_type": "markdown",
   "metadata": {
    "_cell_guid": "153792e5-0af8-7a32-0d20-9d4a9b390209"
   },
   "source": [
    "The algorithm suffers from high variance."
   ]
  },
  {
   "cell_type": "code",
   "execution_count": null,
   "metadata": {},
   "outputs": [],
   "source": []
  },
  {
   "cell_type": "markdown",
   "metadata": {
    "_cell_guid": "7be8f814-f686-81e0-81c3-3321cb6827cc"
   },
   "source": [
    "### Tuning DT_RepeatedStratifiedKFold\n",
    "\n",
    "For random forest, we can tune the number of grown trees (n_estimators), the trees' depth (max_depth), the criterion of splitting (gini or entropy) and so on.... Let's start tuning these."
   ]
  },
  {
   "cell_type": "code",
   "execution_count": 51,
   "metadata": {
    "_cell_guid": "aa261f12-a4a0-df09-1bd2-c3a2151ea6e7"
   },
   "outputs": [
    {
     "name": "stdout",
     "output_type": "stream",
     "text": [
      "Fitting 60 folds for each of 1566 candidates, totalling 93960 fits\n"
     ]
    },
    {
     "name": "stderr",
     "output_type": "stream",
     "text": [
      "[Parallel(n_jobs=-1)]: Using backend LokyBackend with 4 concurrent workers.\n",
      "[Parallel(n_jobs=-1)]: Done 1028 tasks      | elapsed:    1.6s\n",
      "[Parallel(n_jobs=-1)]: Done 5528 tasks      | elapsed:   10.0s\n",
      "[Parallel(n_jobs=-1)]: Done 9503 tasks      | elapsed:   25.4s\n",
      "[Parallel(n_jobs=-1)]: Done 14338 tasks      | elapsed:   46.0s\n",
      "[Parallel(n_jobs=-1)]: Done 20638 tasks      | elapsed:  1.2min\n",
      "[Parallel(n_jobs=-1)]: Done 28268 tasks      | elapsed:  1.9min\n",
      "[Parallel(n_jobs=-1)]: Done 38018 tasks      | elapsed:  2.6min\n",
      "[Parallel(n_jobs=-1)]: Done 49691 tasks      | elapsed:  3.4min\n",
      "[Parallel(n_jobs=-1)]: Done 63291 tasks      | elapsed:  4.4min\n",
      "[Parallel(n_jobs=-1)]: Done 78491 tasks      | elapsed:  5.5min\n",
      "[Parallel(n_jobs=-1)]: Done 93960 out of 93960 | elapsed:  7.0min finished\n"
     ]
    },
    {
     "name": "stdout",
     "output_type": "stream",
     "text": [
      "{'max_depth': 7, 'max_leaf_nodes': 12, 'min_samples_leaf': 2, 'min_samples_split': 2, 'random_state': 20}\n",
      "0.9720266040688575\n"
     ]
    }
   ],
   "source": [
    "# Create a pipeline with a Random forest classifier\n",
    "from sklearn.tree import DecisionTreeClassifier\n",
    "from sklearn.model_selection import cross_val_score\n",
    "from sklearn.model_selection import GridSearchCV\n",
    "\n",
    "model = DecisionTreeClassifier()\n",
    "\n",
    "#  GridSearchCV & KFold طريقة 2\n",
    "\n",
    "\n",
    "kf =RepeatedStratifiedKFold(n_splits=20, n_repeats=3, random_state=1)\n",
    "\n",
    "gs = GridSearchCV(model,\n",
    "                  param_grid = {'max_depth': range(1, 30),\n",
    "                                'min_samples_split': range(2, 30, 10),\n",
    "                               'max_leaf_nodes':range(2, 30, 10),\n",
    "                                'min_samples_leaf':range(2, 30, 10),\n",
    "                               'random_state':range(10, 30, 10)},\n",
    "                  cv=kf,\n",
    "                  n_jobs=-1,\n",
    "                  verbose = 1,\n",
    "                  scoring='accuracy')\n",
    "\n",
    "gs.fit(X_train, y_train)\n",
    "\n",
    "print(gs.best_params_)\n",
    "\n",
    "print(gs.best_score_)\n",
    "\n"
   ]
  },
  {
   "cell_type": "markdown",
   "metadata": {
    "_cell_guid": "066fdf65-461d-b87f-d6b9-78b96bfa3fd6"
   },
   "source": [
    "## 6) Diagnose the performance of the best algorithms"
   ]
  },
  {
   "cell_type": "markdown",
   "metadata": {
    "_cell_guid": "7bfa1ad3-fbcd-2b81-1150-2eea3b218672"
   },
   "source": [
    "### Diagnose overfitting by plotting the learning and validation curves"
   ]
  },
  {
   "cell_type": "code",
   "execution_count": 52,
   "metadata": {
    "_cell_guid": "5eb36f01-70b6-be52-362f-1d2d635ec45e"
   },
   "outputs": [],
   "source": [
    "# Let's define some utility functions to plot the learning & validation curves\n",
    "\n",
    "def plot_learning_curve(train_sizes, train_scores, test_scores, title, alpha=0.1):\n",
    "    train_mean = np.mean(train_scores, axis=1)\n",
    "    train_std = np.std(train_scores, axis=1)\n",
    "    test_mean = np.mean(test_scores, axis=1)\n",
    "    test_std = np.std(test_scores, axis=1)\n",
    "    plt.plot(train_sizes, train_mean, label='train score', color='blue', marker='o')\n",
    "    plt.fill_between(train_sizes,train_mean + train_std,\n",
    "                    train_mean - train_std, color='blue', alpha=alpha)\n",
    "    plt.plot(train_sizes, test_mean, label='test score', color='red',marker='o')\n",
    "    plt.fill_between(train_sizes,test_mean + test_std, test_mean - test_std , color='red', alpha=alpha)\n",
    "    plt.title(title)\n",
    "    plt.xlabel('Number of training points')\n",
    "    plt.ylabel('Accuracy')\n",
    "    plt.grid(ls='--')\n",
    "    plt.legend(loc='best')\n",
    "    plt.show()    \n",
    "    \n",
    "def plot_validation_curve(param_range, train_scores, test_scores, title, alpha=0.1):\n",
    "    train_mean = np.mean(train_scores, axis=1)\n",
    "    train_std = np.std(train_scores, axis=1)\n",
    "    test_mean = np.mean(test_scores, axis=1)\n",
    "    test_std = np.std(test_scores, axis=1)\n",
    "    plt.plot(param_range, train_mean, label='train score', color='blue', marker='o')\n",
    "    plt.fill_between(param_range,train_mean + train_std,\n",
    "                    train_mean - train_std, color='blue', alpha=alpha)\n",
    "    plt.plot(param_range, test_mean, label='test score', color='red', marker='o')\n",
    "    plt.fill_between(param_range,test_mean + test_std, test_mean - test_std , color='red', alpha=alpha)\n",
    "    plt.title(title)\n",
    "    plt.grid(ls='--')\n",
    "    plt.xlabel('Parameter value')\n",
    "    plt.ylabel('Accuracy')\n",
    "    plt.legend(loc='best')\n",
    "    plt.show()    "
   ]
  },
  {
   "cell_type": "code",
   "execution_count": 53,
   "metadata": {
    "_cell_guid": "f03b5dc9-99c1-4361-bf7a-0f516d3270f5"
   },
   "outputs": [
    {
     "data": {
      "image/png": "[encoded data removed]",
      "text/plain": [
       "<Figure size 648x432 with 1 Axes>"
      ]
     },
     "metadata": {
      "needs_background": "light"
     },
     "output_type": "display_data"
    }
   ],
   "source": [
    "plt.figure(figsize=(9,6))\n",
    "\n",
    "train_sizes, train_scores, test_scores = learning_curve(\n",
    "              estimator= gs.best_estimator_ , X= X_train, y = y_train, \n",
    "                train_sizes=np.arange(0.1,1.1,0.1), cv= 20,  scoring='accuracy', n_jobs= - 1)\n",
    "\n",
    "plot_learning_curve(train_sizes, train_scores, test_scores, title='Learning curve for DT')"
   ]
  },
  {
   "cell_type": "markdown",
   "metadata": {
    "_cell_guid": "153792e5-0af8-7a32-0d20-9d4a9b390209"
   },
   "source": [
    "The algorithm suffers from high variance."
   ]
  },
  {
   "cell_type": "code",
   "execution_count": null,
   "metadata": {},
   "outputs": [],
   "source": []
  },
  {
   "cell_type": "markdown",
   "metadata": {
    "_cell_guid": "7be8f814-f686-81e0-81c3-3321cb6827cc"
   },
   "source": [
    "### Tuning DT_StratifiedKFold\n",
    "\n",
    "For random forest, we can tune the number of grown trees (n_estimators), the trees' depth (max_depth), the criterion of splitting (gini or entropy) and so on.... Let's start tuning these."
   ]
  },
  {
   "cell_type": "code",
   "execution_count": 54,
   "metadata": {
    "_cell_guid": "aa261f12-a4a0-df09-1bd2-c3a2151ea6e7"
   },
   "outputs": [
    {
     "name": "stdout",
     "output_type": "stream",
     "text": [
      "Fitting 20 folds for each of 1566 candidates, totalling 31320 fits\n"
     ]
    },
    {
     "name": "stderr",
     "output_type": "stream",
     "text": [
      "[Parallel(n_jobs=-1)]: Using backend LokyBackend with 4 concurrent workers.\n",
      "[Parallel(n_jobs=-1)]: Done 1792 tasks      | elapsed:    3.7s\n",
      "[Parallel(n_jobs=-1)]: Done 6652 tasks      | elapsed:   23.1s\n",
      "[Parallel(n_jobs=-1)]: Done 11827 tasks      | elapsed:   45.5s\n",
      "[Parallel(n_jobs=-1)]: Done 17077 tasks      | elapsed:  1.1min\n",
      "[Parallel(n_jobs=-1)]: Done 23827 tasks      | elapsed:  1.7min\n"
     ]
    },
    {
     "name": "stdout",
     "output_type": "stream",
     "text": [
      "{'max_depth': 6, 'max_leaf_nodes': 12, 'min_samples_leaf': 2, 'min_samples_split': 2, 'random_state': 10}\n",
      "0.9683098591549296\n"
     ]
    },
    {
     "name": "stderr",
     "output_type": "stream",
     "text": [
      "[Parallel(n_jobs=-1)]: Done 31320 out of 31320 | elapsed:  2.3min finished\n"
     ]
    }
   ],
   "source": [
    "# Create a pipeline with a Random forest classifier\n",
    "from sklearn.tree import DecisionTreeClassifier\n",
    "from sklearn.model_selection import cross_val_score\n",
    "from sklearn.model_selection import GridSearchCV\n",
    "\n",
    "model = DecisionTreeClassifier()\n",
    "\n",
    "#  GridSearchCV & KFold طريقة 2\n",
    "\n",
    "num_splits=20\n",
    "kf =StratifiedKFold(num_splits, shuffle= True, random_state = 101)\n",
    "\n",
    "gs = GridSearchCV(model,\n",
    "                  param_grid = {'max_depth': range(1, 30),\n",
    "                                'min_samples_split': range(2, 30, 10),\n",
    "                               'max_leaf_nodes':range(2, 30, 10),\n",
    "                                'min_samples_leaf':range(2, 30, 10),\n",
    "                               'random_state':range(10, 30, 10)},\n",
    "                  cv=kf,\n",
    "                  n_jobs=-1,\n",
    "                  verbose = 1,\n",
    "                  scoring='accuracy')\n",
    "\n",
    "gs.fit(X_train, y_train)\n",
    "\n",
    "print(gs.best_params_)\n",
    "\n",
    "print(gs.best_score_)\n",
    "\n"
   ]
  },
  {
   "cell_type": "markdown",
   "metadata": {
    "_cell_guid": "066fdf65-461d-b87f-d6b9-78b96bfa3fd6"
   },
   "source": [
    "## 6) Diagnose the performance of the best algorithms"
   ]
  },
  {
   "cell_type": "markdown",
   "metadata": {
    "_cell_guid": "7bfa1ad3-fbcd-2b81-1150-2eea3b218672"
   },
   "source": [
    "### Diagnose overfitting by plotting the learning and validation curves"
   ]
  },
  {
   "cell_type": "code",
   "execution_count": 55,
   "metadata": {
    "_cell_guid": "5eb36f01-70b6-be52-362f-1d2d635ec45e"
   },
   "outputs": [],
   "source": [
    "# Let's define some utility functions to plot the learning & validation curves\n",
    "\n",
    "def plot_learning_curve(train_sizes, train_scores, test_scores, title, alpha=0.1):\n",
    "    train_mean = np.mean(train_scores, axis=1)\n",
    "    train_std = np.std(train_scores, axis=1)\n",
    "    test_mean = np.mean(test_scores, axis=1)\n",
    "    test_std = np.std(test_scores, axis=1)\n",
    "    plt.plot(train_sizes, train_mean, label='train score', color='blue', marker='o')\n",
    "    plt.fill_between(train_sizes,train_mean + train_std,\n",
    "                    train_mean - train_std, color='blue', alpha=alpha)\n",
    "    plt.plot(train_sizes, test_mean, label='test score', color='red',marker='o')\n",
    "    plt.fill_between(train_sizes,test_mean + test_std, test_mean - test_std , color='red', alpha=alpha)\n",
    "    plt.title(title)\n",
    "    plt.xlabel('Number of training points')\n",
    "    plt.ylabel('Accuracy')\n",
    "    plt.grid(ls='--')\n",
    "    plt.legend(loc='best')\n",
    "    plt.show()    \n",
    "    \n",
    "def plot_validation_curve(param_range, train_scores, test_scores, title, alpha=0.1):\n",
    "    train_mean = np.mean(train_scores, axis=1)\n",
    "    train_std = np.std(train_scores, axis=1)\n",
    "    test_mean = np.mean(test_scores, axis=1)\n",
    "    test_std = np.std(test_scores, axis=1)\n",
    "    plt.plot(param_range, train_mean, label='train score', color='blue', marker='o')\n",
    "    plt.fill_between(param_range,train_mean + train_std,\n",
    "                    train_mean - train_std, color='blue', alpha=alpha)\n",
    "    plt.plot(param_range, test_mean, label='test score', color='red', marker='o')\n",
    "    plt.fill_between(param_range,test_mean + test_std, test_mean - test_std , color='red', alpha=alpha)\n",
    "    plt.title(title)\n",
    "    plt.grid(ls='--')\n",
    "    plt.xlabel('Parameter value')\n",
    "    plt.ylabel('Accuracy')\n",
    "    plt.legend(loc='best')\n",
    "    plt.show()    "
   ]
  },
  {
   "cell_type": "code",
   "execution_count": 56,
   "metadata": {
    "_cell_guid": "f03b5dc9-99c1-4361-bf7a-0f516d3270f5"
   },
   "outputs": [
    {
     "data": {
      "image/png": "[encoded data removed]",
      "text/plain": [
       "<Figure size 648x432 with 1 Axes>"
      ]
     },
     "metadata": {
      "needs_background": "light"
     },
     "output_type": "display_data"
    }
   ],
   "source": [
    "plt.figure(figsize=(9,6))\n",
    "\n",
    "train_sizes, train_scores, test_scores = learning_curve(\n",
    "              estimator= gs.best_estimator_ , X= X_train, y = y_train, \n",
    "                train_sizes=np.arange(0.1,1.1,0.1), cv= 20,  scoring='accuracy', n_jobs= - 1)\n",
    "\n",
    "plot_learning_curve(train_sizes, train_scores, test_scores, title='Learning curve for DT')"
   ]
  },
  {
   "cell_type": "markdown",
   "metadata": {
    "_cell_guid": "153792e5-0af8-7a32-0d20-9d4a9b390209"
   },
   "source": [
    "The algorithm suffers from high variance."
   ]
  },
  {
   "cell_type": "code",
   "execution_count": null,
   "metadata": {},
   "outputs": [],
   "source": []
  },
  {
   "cell_type": "markdown",
   "metadata": {
    "_cell_guid": "7be8f814-f686-81e0-81c3-3321cb6827cc"
   },
   "source": [
    "### Tuning DT_KFold_Recall\n",
    "\n",
    "For random forest, we can tune the number of grown trees (n_estimators), the trees' depth (max_depth), the criterion of splitting (gini or entropy) and so on.... Let's start tuning these."
   ]
  },
  {
   "cell_type": "code",
   "execution_count": 57,
   "metadata": {},
   "outputs": [],
   "source": [
    "from sklearn.model_selection import RepeatedStratifiedKFold\n"
   ]
  },
  {
   "cell_type": "code",
   "execution_count": 58,
   "metadata": {
    "_cell_guid": "aa261f12-a4a0-df09-1bd2-c3a2151ea6e7"
   },
   "outputs": [
    {
     "name": "stdout",
     "output_type": "stream",
     "text": [
      "Fitting 20 folds for each of 1566 candidates, totalling 31320 fits\n"
     ]
    },
    {
     "name": "stderr",
     "output_type": "stream",
     "text": [
      "[Parallel(n_jobs=-1)]: Using backend LokyBackend with 4 concurrent workers.\n",
      "[Parallel(n_jobs=-1)]: Done 1572 tasks      | elapsed:    3.3s\n",
      "[Parallel(n_jobs=-1)]: Done 5714 tasks      | elapsed:   20.8s\n",
      "[Parallel(n_jobs=-1)]: Done 8964 tasks      | elapsed:   35.2s\n",
      "[Parallel(n_jobs=-1)]: Done 13514 tasks      | elapsed:   57.3s\n",
      "[Parallel(n_jobs=-1)]: Done 19364 tasks      | elapsed:  1.4min\n",
      "[Parallel(n_jobs=-1)]: Done 26514 tasks      | elapsed:  2.0min\n",
      "[Parallel(n_jobs=-1)]: Done 31320 out of 31320 | elapsed:  2.4min finished\n"
     ]
    },
    {
     "name": "stdout",
     "output_type": "stream",
     "text": [
      "{'max_depth': 3, 'max_leaf_nodes': 12, 'min_samples_leaf': 2, 'min_samples_split': 2, 'random_state': 10}\n",
      "0.9841451582198621\n"
     ]
    }
   ],
   "source": [
    "# Create a pipeline with a Random forest classifier\n",
    "from sklearn.tree import DecisionTreeClassifier\n",
    "from sklearn.model_selection import cross_val_score\n",
    "from sklearn.model_selection import GridSearchCV\n",
    "\n",
    "model = DecisionTreeClassifier()\n",
    "\n",
    "#  GridSearchCV & KFold طريقة 2\n",
    "\n",
    "\n",
    "kf =KFold(n_splits=20, shuffle=True, random_state=0)\n",
    "\n",
    "gs = GridSearchCV(model,\n",
    "                  param_grid = {'max_depth': range(1, 30),\n",
    "                                'min_samples_split': range(2, 30, 10),\n",
    "                               'max_leaf_nodes':range(2, 30, 10),\n",
    "                                'min_samples_leaf':range(2, 30, 10),\n",
    "                               'random_state':range(10, 30, 10)},\n",
    "                  cv=kf,\n",
    "                  n_jobs=-1,\n",
    "                  verbose = 1,\n",
    "                  scoring='recall')\n",
    "\n",
    "gs.fit(X_train, y_train)\n",
    "\n",
    "print(gs.best_params_)\n",
    "\n",
    "print(gs.best_score_)\n",
    "\n"
   ]
  },
  {
   "cell_type": "markdown",
   "metadata": {
    "_cell_guid": "066fdf65-461d-b87f-d6b9-78b96bfa3fd6"
   },
   "source": [
    "## 6) Diagnose the performance of the best algorithms"
   ]
  },
  {
   "cell_type": "markdown",
   "metadata": {
    "_cell_guid": "7bfa1ad3-fbcd-2b81-1150-2eea3b218672"
   },
   "source": [
    "### Diagnose overfitting by plotting the learning and validation curves"
   ]
  },
  {
   "cell_type": "code",
   "execution_count": 59,
   "metadata": {
    "_cell_guid": "5eb36f01-70b6-be52-362f-1d2d635ec45e"
   },
   "outputs": [],
   "source": [
    "# Let's define some utility functions to plot the learning & validation curves\n",
    "\n",
    "def plot_learning_curve(train_sizes, train_scores, test_scores, title, alpha=0.1):\n",
    "    train_mean = np.mean(train_scores, axis=1)\n",
    "    train_std = np.std(train_scores, axis=1)\n",
    "    test_mean = np.mean(test_scores, axis=1)\n",
    "    test_std = np.std(test_scores, axis=1)\n",
    "    plt.plot(train_sizes, train_mean, label='train score', color='blue', marker='o')\n",
    "    plt.fill_between(train_sizes,train_mean + train_std,\n",
    "                    train_mean - train_std, color='blue', alpha=alpha)\n",
    "    plt.plot(train_sizes, test_mean, label='test score', color='red',marker='o')\n",
    "    plt.fill_between(train_sizes,test_mean + test_std, test_mean - test_std , color='red', alpha=alpha)\n",
    "    plt.title(title)\n",
    "    plt.xlabel('Number of training points')\n",
    "    plt.ylabel('Accuracy')\n",
    "    plt.grid(ls='--')\n",
    "    plt.legend(loc='best')\n",
    "    plt.show()    \n",
    "    \n",
    "def plot_validation_curve(param_range, train_scores, test_scores, title, alpha=0.1):\n",
    "    train_mean = np.mean(train_scores, axis=1)\n",
    "    train_std = np.std(train_scores, axis=1)\n",
    "    test_mean = np.mean(test_scores, axis=1)\n",
    "    test_std = np.std(test_scores, axis=1)\n",
    "    plt.plot(param_range, train_mean, label='train score', color='blue', marker='o')\n",
    "    plt.fill_between(param_range,train_mean + train_std,\n",
    "                    train_mean - train_std, color='blue', alpha=alpha)\n",
    "    plt.plot(param_range, test_mean, label='test score', color='red', marker='o')\n",
    "    plt.fill_between(param_range,test_mean + test_std, test_mean - test_std , color='red', alpha=alpha)\n",
    "    plt.title(title)\n",
    "    plt.grid(ls='--')\n",
    "    plt.xlabel('Parameter value')\n",
    "    plt.ylabel('Accuracy')\n",
    "    plt.legend(loc='best')\n",
    "    plt.show()    "
   ]
  },
  {
   "cell_type": "code",
   "execution_count": 60,
   "metadata": {
    "_cell_guid": "f03b5dc9-99c1-4361-bf7a-0f516d3270f5"
   },
   "outputs": [
    {
     "data": {
      "image/png": "[encoded data removed]",
      "text/plain": [
       "<Figure size 648x432 with 1 Axes>"
      ]
     },
     "metadata": {
      "needs_background": "light"
     },
     "output_type": "display_data"
    }
   ],
   "source": [
    "plt.figure(figsize=(9,6))\n",
    "\n",
    "train_sizes, train_scores, test_scores = learning_curve(\n",
    "              estimator= gs.best_estimator_ , X= X_train, y = y_train, \n",
    "                train_sizes=np.arange(0.1,1.1,0.1), cv= 20,  scoring='recall', n_jobs= - 1)\n",
    "\n",
    "plot_learning_curve(train_sizes, train_scores, test_scores, title='Learning curve for DT')"
   ]
  },
  {
   "cell_type": "code",
   "execution_count": null,
   "metadata": {},
   "outputs": [],
   "source": []
  }
 ],
 "metadata": {
  "kernelspec": {
   "display_name": "Python 3 (ipykernel)",
   "language": "python",
   "name": "python3"
  },
  "language_info": {
   "codemirror_mode": {
    "name": "ipython",
    "version": 3
   },
   "file_extension": ".py",
   "mimetype": "text/x-python",
   "name": "python",
   "nbconvert_exporter": "python",
   "pygments_lexer": "ipython3",
   "version": "3.9.13"
  }
 },
 "nbformat": 4,
 "nbformat_minor": 2
}
